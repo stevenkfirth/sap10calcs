{
 "cells": [
  {
   "cell_type": "markdown",
   "id": "cb281cc7",
   "metadata": {},
   "source": [
    "# Example - creating a new empty SAP XML file\n",
    "\n",
    "This notebook shows how to create a new empty SAP XML file.\n",
    "\n",
    "This uses the [sap10calcs Python package](https://github.com/stevenkfirth/sap10calcs)."
   ]
  },
  {
   "cell_type": "markdown",
   "id": "8fddc397",
   "metadata": {},
   "source": [
    "## 1. Setup"
   ]
  },
  {
   "cell_type": "code",
   "execution_count": 3,
   "id": "afaec60e",
   "metadata": {},
   "outputs": [],
   "source": [
    "import sap10calcs"
   ]
  },
  {
   "cell_type": "markdown",
   "id": "583ca086",
   "metadata": {},
   "source": [
    "## 2. Create SAP XML"
   ]
  },
  {
   "cell_type": "code",
   "execution_count": 4,
   "id": "31f1899c",
   "metadata": {},
   "outputs": [
    {
     "name": "stdout",
     "output_type": "stream",
     "text": [
      "<lxml.etree._ElementTree object at 0x00000244A0217100>\n",
      "<SAP_Report {https://epbr.digital.communities.gov.uk/xsd/sap}SAP-Report>\n"
     ]
    }
   ],
   "source": [
    "tree, sap_report = sap10calcs.create_sap_report_xml()\n",
    "print(tree)\n",
    "print(sap_report)"
   ]
  },
  {
   "cell_type": "markdown",
   "id": "1b5871a5",
   "metadata": {},
   "source": [
    "## 3. Display XML"
   ]
  },
  {
   "cell_type": "code",
   "execution_count": 5,
   "id": "1dc0c071",
   "metadata": {},
   "outputs": [
    {
     "name": "stdout",
     "output_type": "stream",
     "text": [
      "<SAP-Report xmlns=\"https://epbr.digital.communities.gov.uk/xsd/sap\">\n",
      "  <Schema-Version-Original>SAP-Schema-19.1.0</Schema-Version-Original>\n",
      "  <SAP-Version>10.2 ['SAP version 10.2, dated Oct 2020']</SAP-Version>\n",
      "</SAP-Report>\n",
      "\n"
     ]
    }
   ],
   "source": [
    "print(sap_report.display(show_values = True))"
   ]
  },
  {
   "cell_type": "markdown",
   "id": "85138ef8",
   "metadata": {},
   "source": [
    "## 4. Save XML to a file"
   ]
  },
  {
   "cell_type": "code",
   "execution_count": 6,
   "id": "c7977546",
   "metadata": {},
   "outputs": [],
   "source": [
    "tree.write('Example - creating a new empty SAP XML file.xml', encoding=\"utf-8\", xml_declaration=True, pretty_print=True)"
   ]
  },
  {
   "cell_type": "code",
   "execution_count": null,
   "id": "22ccc712",
   "metadata": {},
   "outputs": [],
   "source": []
  }
 ],
 "metadata": {
  "kernelspec": {
   "display_name": "Python 3 (ipykernel)",
   "language": "python",
   "name": "python3"
  },
  "language_info": {
   "codemirror_mode": {
    "name": "ipython",
    "version": 3
   },
   "file_extension": ".py",
   "mimetype": "text/x-python",
   "name": "python",
   "nbconvert_exporter": "python",
   "pygments_lexer": "ipython3",
   "version": "3.9.18"
  }
 },
 "nbformat": 4,
 "nbformat_minor": 5
}
