{
 "cells": [
  {
   "cell_type": "markdown",
   "id": "4a45260c",
   "metadata": {},
   "source": [
    "# Example - running a RdSAP calculation\n",
    "\n",
    "This notebook runs RdSAP10 calculation.\n",
    "\n",
    "This uses the [sap10calcs Python package](https://github.com/stevenkfirth/sap10calcs)."
   ]
  },
  {
   "cell_type": "markdown",
   "id": "7e38e317",
   "metadata": {},
   "source": [
    "## 1. Setup"
   ]
  },
  {
   "cell_type": "code",
   "execution_count": 1,
   "id": "30a8b5d3",
   "metadata": {},
   "outputs": [],
   "source": [
    "import sap10calcs\n",
    "import json\n",
    "from lxml import etree\n",
    "from io import StringIO"
   ]
  },
  {
   "cell_type": "markdown",
   "id": "c1386027",
   "metadata": {},
   "source": [
    "## 2. Run RdSAP calculation"
   ]
  },
  {
   "cell_type": "code",
   "execution_count": 2,
   "id": "994bbff3",
   "metadata": {
    "scrolled": true
   },
   "outputs": [
    {
     "name": "stdout",
     "output_type": "stream",
     "text": [
      "True\n",
      "<class 'str'>\n",
      "<class 'dict'>\n"
     ]
    }
   ],
   "source": [
    "result = sap10calcs.rdsap(\n",
    "    input_file = 'Example - creating a complete RdSAP XML file.xml',\n",
    "    auth_token = None\n",
    ")\n",
    "sap_xml_string = result.pop('sap_xml') \n",
    "output_dict = result.pop('rdsap_calculation_output_dict')\n",
    "print(result['rdsap_calculation_success'])\n",
    "print(type(sap_xml_string))\n",
    "print(type(output_dict))"
   ]
  },
  {
   "cell_type": "markdown",
   "id": "d36cd1c8",
   "metadata": {},
   "source": [
    "## 3. Save the results"
   ]
  },
  {
   "cell_type": "code",
   "execution_count": 3,
   "id": "087cf63c",
   "metadata": {},
   "outputs": [],
   "source": [
    "# save the XML results\n",
    "sap_xml = etree.parse(StringIO(sap_xml_string))\n",
    "sap_xml.write('Example - running a  RdSAP calculation.xml', encoding=\"utf-8\", xml_declaration=True, pretty_print=True)"
   ]
  },
  {
   "cell_type": "code",
   "execution_count": 4,
   "id": "0b5d8a9d",
   "metadata": {},
   "outputs": [],
   "source": [
    "# save the intermediate calculation results\n",
    "with open('Example - running a  RdSAP calculation.json', 'w') as f:\n",
    "    json.dump(output_dict, f, indent = 4)"
   ]
  },
  {
   "cell_type": "markdown",
   "id": "37eb1f0c",
   "metadata": {},
   "source": [
    "## 4. View the API results"
   ]
  },
  {
   "cell_type": "code",
   "execution_count": 5,
   "id": "d2b87df3",
   "metadata": {},
   "outputs": [
    {
     "data": {
      "text/plain": [
       "{'api_call_datetime': '2024-11-19T07:19:05.061524',\n",
       " 'api_call_url': 'https://netzeroapis.com/calc/rdsap10',\n",
       " 'api_call_filename': 'file',\n",
       " 'api_call_server_time_seconds': 0.005132799036800861,\n",
       " 'licenses': ['https://netzeroapis.com/terms_and_conditions',\n",
       "  'https://creativecommons.org/publicdomain/zero/1.0/'],\n",
       " 'rdsap_calculation_success': True,\n",
       " 'rdsap_calculation_error_type': None,\n",
       " 'rdsap_calculation_error_message': None,\n",
       " 'rdsap_calculation_error_traceback': None}"
      ]
     },
     "execution_count": 5,
     "metadata": {},
     "output_type": "execute_result"
    }
   ],
   "source": [
    "# these are the results excluding the SAP calculation results\n",
    "result"
   ]
  },
  {
   "cell_type": "markdown",
   "id": "3fed1527",
   "metadata": {},
   "source": [
    "## 5. View calcuation results"
   ]
  },
  {
   "cell_type": "code",
   "execution_count": 6,
   "id": "30d358a0",
   "metadata": {},
   "outputs": [
    {
     "data": {
      "text/plain": [
       "82"
      ]
     },
     "execution_count": 6,
     "metadata": {},
     "output_type": "execute_result"
    }
   ],
   "source": [
    "len(output_dict)"
   ]
  },
  {
   "cell_type": "code",
   "execution_count": 7,
   "id": "8ec112dd",
   "metadata": {
    "scrolled": true
   },
   "outputs": [
    {
     "name": "stdout",
     "output_type": "stream",
     "text": [
      "country_code: England\n",
      "property_type: House\n",
      "built_form: Detached\n",
      "sap_building_part_0_building_part_number: 1\n",
      "sap_building_parts_number_of_extensions: 0\n",
      "sap_building_part_0_construction_age_band: England and Wales: 1991-1995; Scotland: 1992-1998; Northern Ireland: 1992-1999\n",
      "measurement_type: Internal\n",
      "sap_building_part_0_number_of_floors: 1\n",
      "sap_building_part_0_sap_floor_dimension_0_floor: lowest occupied\n",
      "sap_building_part_0_sap_floor_dimension_0_floor_area_internal: 100.0\n",
      "sap_building_part_0_sap_floor_dimension_0_exposed_perimeter_internal: 40.0\n",
      "sap_building_part_0_sap_floor_dimension_0_party_wall_length_internal: 0.0\n",
      "sap_building_part_0_sap_floor_dimension_0_room_height_internal: 3.0\n",
      "sap_building_part_0_floor_heat_loss: Ground floor\n",
      "sap_building_part_0_wall_thickness_measured: No\n",
      "sap_building_part_0_wall_construction: cavity\n",
      "sap_building_part_0_wall_thickness_final: 270\n",
      "sap_building_part_0_lowest_floor: lowest occupied\n",
      "sap_building_part_0_sap_floor_dimension_0_room_height_final: 3.0\n",
      "sap_building_part_0_wall_gross_area: 120.0\n",
      "sap_building_part_0_party_wall_area: 0.0\n",
      "door_count: 0\n",
      "door_area: 0.0\n",
      "sap_building_part_0_door_area: 0.0\n",
      "sap_building_part_0_wall_window_area: 0\n",
      "sap_building_part_0_wall_net_area: 120.0\n",
      "sap_building_part_0_roof_area: 100.0\n",
      "sap_building_part_0_sap_floor_dimension_0_exposed_floor_area: 100.0\n",
      "open_chimneys_count: 0\n",
      "blocked_chimneys_count: 0\n",
      "open_flues_count: 0\n",
      "closed_flues_count: 0\n",
      "boilers_flues_count: 0\n",
      "other_flues_count: 0\n",
      "ventilation_system: natural\n",
      "habitable_room_count: 1\n",
      "extract_fans_count: 1\n",
      "passive_stack_vents_count: 0\n",
      "flueless_gas_fires_count: 0\n",
      "sap_building_part_0_number_of_storeys: 1\n",
      "number_of_storeys: 1\n",
      "wall_structural_infiltration: 0.35\n",
      "sap_building_part_0_floor_u_value: 1.0\n",
      "sap_building_part_0_floor_u_value_final: 1.0\n",
      "sap_building_part_0_sap_floor_dimension_0_floor_construction: suspended timber\n",
      "sap_building_part_0_sap_floor_dimension_0_floor_insulation: as built\n",
      "floor_structural_infiltration: 0.1\n",
      "draught_lobby_infiltration: 0.05\n",
      "pressure_test: yes - measured at 50 Pa\n",
      "air_permeability: 0.0\n",
      "sheltered_sides: 0\n",
      "number_of_wet_rooms_exhaust_air_heat_pump: 2\n",
      "sap_building_part_0_wall_u_value: 1.0\n",
      "sap_building_part_0_wall_insulation_type: filled cavity\n",
      "sap_building_part_0_party_wall_construction: not applicable (detached property or no party wall in this building part)\n",
      "sap_building_part_0_roof_construction: Pitched (slates or tiles), access to loft\n",
      "sap_building_part_0_roof_insulation_location: Joists\n",
      "sap_building_part_0_roof_u_value: 1.0\n",
      "sap_building_part_0_roof_u_value_final: 1.0\n",
      "thermal_bridging_factor: 0.15\n",
      "thermal_mass_parameter: 250\n",
      "conservatory_type: no conservatory\n",
      "percent_draughtproofed: 0\n",
      "living_area_fraction: 0.75\n",
      "total_floor_area: 100.0\n",
      "living_area: 75.0\n",
      "main_heating_0_main_heating_number: 1\n",
      "main_heating_0_main_heating_category: boiler with radiators or underfloor heating\n",
      "main_heating_0_main_fuel_type: mains gas - this is for backwards compatibility only and should not be used\n",
      "main_heating_0_main_heating_control: 2106\n",
      "main_heating_0_main_heating_data_source: SAP Table\n",
      "main_heating_0_heat_emitter_type: radiators\n",
      "main_heating_0_main_heating_fraction: 1.0\n",
      "main_heating_0_has_fghrs: No\n",
      "main_heating_0_sap_main_heating_code: 104\n",
      "main_heating_0_boiler_ignition_type: auto-ignition\n",
      "main_heating_0_boiler_flue_type: open\n",
      "main_heating_0_fan_flue_present: Yes\n",
      "water_heating_fuel: mains gas - this is for backwards compatibility only and should not be used\n",
      "water_heating_code: 901\n",
      "cylinder_size: No Cylinder\n",
      "insulation_of_primary_pipework: None\n"
     ]
    }
   ],
   "source": [
    "for k, v in output_dict.items():\n",
    "    print(f'{k}: {v}')"
   ]
  },
  {
   "cell_type": "markdown",
   "id": "e9613039",
   "metadata": {},
   "source": [
    "## 6. View SAP XML"
   ]
  },
  {
   "cell_type": "code",
   "execution_count": 8,
   "id": "7f816a35",
   "metadata": {},
   "outputs": [
    {
     "name": "stdout",
     "output_type": "stream",
     "text": [
      "<SAP-Report xmlns=\"https://epbr.digital.communities.gov.uk/xsd/sap\">\n",
      "  <Schema-Version-Original>SAP-Schema-19.1.0</Schema-Version-Original>\n",
      "  <SAP-Version>10.2 ['SAP version 10.2, dated Oct 2020']</SAP-Version>\n",
      "  <SAP10-Data>\n",
      "    <Data-Type>5 ['existing dwelling']</Data-Type>\n",
      "    <SAP-Property-Details>\n",
      "      <Cold-Water-Source>1 ['mains']</Cold-Water-Source>\n",
      "      <Living-Area>75.0</Living-Area>\n",
      "      <SAP-Building-Parts>\n",
      "        <SAP-Building-Part>\n",
      "          <Building-Part-Number>1</Building-Part-Number>\n",
      "          <SAP-Floor-Dimensions>\n",
      "            <SAP-Floor-Dimension>\n",
      "              <Storey>0 ['Ground']</Storey>\n",
      "              <Floor-Type>2 ['ground floor']</Floor-Type>\n",
      "              <Total-Floor-Area>100.0</Total-Floor-Area>\n",
      "              <Storey-Height>3.0</Storey-Height>\n",
      "              <Heat-Loss-Area>100.0</Heat-Loss-Area>\n",
      "              <U-Value>1.0</U-Value>\n",
      "            </SAP-Floor-Dimension>\n",
      "          </SAP-Floor-Dimensions>\n",
      "          <SAP-Thermal-Bridges>\n",
      "            <Thermal-Bridge-Code>4 ['user defined (global y-value)']</Thermal-Bridge-Code>\n",
      "            <User-Defined-Y-Value>0.15</User-Defined-Y-Value>\n",
      "          </SAP-Thermal-Bridges>\n",
      "        </SAP-Building-Part>\n",
      "      </SAP-Building-Parts>\n",
      "      <SAP-Ventilation>\n",
      "        <Open-Chimneys-Count>0</Open-Chimneys-Count>\n",
      "        <Open-Flues-Count>0</Open-Flues-Count>\n",
      "        <Closed-Flues-Count>0</Closed-Flues-Count>\n",
      "        <Boilers-Flues-Count>0</Boilers-Flues-Count>\n",
      "        <Other-Flues-Count>0</Other-Flues-Count>\n",
      "        <Blocked-Chimneys-Count>0</Blocked-Chimneys-Count>\n",
      "        <Extract-Fans-Count>1</Extract-Fans-Count>\n",
      "        <PSV-Count>0</PSV-Count>\n",
      "        <Flueless-Gas-Fires-Count>0</Flueless-Gas-Fires-Count>\n",
      "        <Pressure-Test>6 ['yes (existing dwelling)']</Pressure-Test>\n",
      "        <Air-Permeability>0.0</Air-Permeability>\n",
      "        <Sheltered-Sides-Count>0</Sheltered-Sides-Count>\n",
      "        <Ventilation-Type>1 ['natural with intermittent extract fans']</Ventilation-Type>\n",
      "      </SAP-Ventilation>\n",
      "      <SAP-Heating>\n",
      "        <Secondary-Heating-Category>1 ['none']</Secondary-Heating-Category>\n",
      "        <Water-Heating-Code>901</Water-Heating-Code>\n",
      "        <Main-Heating-Details>\n",
      "          <Main-Heating>\n",
      "            <Main-Heating-Number>1</Main-Heating-Number>\n",
      "            <Main-Fuel-Type>1 ['Gas: mains gas']</Main-Fuel-Type>\n",
      "            <Main-Heating-Category>2 ['boiler with radiators or underfloor heating']</Main-Heating-Category>\n",
      "            <Main-Heating-Data-Source>3 ['from SAP table']</Main-Heating-Data-Source>\n",
      "            <Main-Heating-Code>104</Main-Heating-Code>\n",
      "            <Is-Central-Heating-Pump-In-Heated-Space>1 ['True']</Is-Central-Heating-Pump-In-Heated-Space>\n",
      "            <Main-Heating-Fraction>1.0</Main-Heating-Fraction>\n",
      "            <Heat-Emitter-Type>1 ['radiators']</Heat-Emitter-Type>\n",
      "            <Main-Heating-Control>2106</Main-Heating-Control>\n",
      "            <Has-Separate-Delayed-Start>0 ['False']</Has-Separate-Delayed-Start>\n",
      "            <Is-Interlocked-System>1 ['True']</Is-Interlocked-System>\n",
      "          </Main-Heating>\n",
      "        </Main-Heating-Details>\n",
      "        <Has-Hot-Water-Cylinder>0 ['False']</Has-Hot-Water-Cylinder>\n",
      "        <Thermal-Store>1 ['none']</Thermal-Store>\n",
      "      </SAP-Heating>\n",
      "    </SAP-Property-Details>\n",
      "  </SAP10-Data>\n",
      "</SAP-Report>\n",
      "\n"
     ]
    }
   ],
   "source": [
    "tree, sap_report =  sap10calcs.parse_xml(StringIO(sap_xml_string))\n",
    "print(sap_report.display())"
   ]
  },
  {
   "cell_type": "code",
   "execution_count": null,
   "id": "2f92a544",
   "metadata": {},
   "outputs": [],
   "source": []
  }
 ],
 "metadata": {
  "kernelspec": {
   "display_name": "Python 3 (ipykernel)",
   "language": "python",
   "name": "python3"
  },
  "language_info": {
   "codemirror_mode": {
    "name": "ipython",
    "version": 3
   },
   "file_extension": ".py",
   "mimetype": "text/x-python",
   "name": "python",
   "nbconvert_exporter": "python",
   "pygments_lexer": "ipython3",
   "version": "3.9.18"
  }
 },
 "nbformat": 4,
 "nbformat_minor": 5
}
