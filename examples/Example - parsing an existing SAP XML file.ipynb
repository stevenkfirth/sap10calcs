{
 "cells": [
  {
   "cell_type": "markdown",
   "id": "c7e706cb",
   "metadata": {},
   "source": [
    "# Example - parsing an existing SAP XML file\n",
    "\n",
    "This notebook shows how to parse a SAP XML file.\n",
    "\n",
    "This uses the [sap10calcs Python package](https://github.com/stevenkfirth/sap10calcs)."
   ]
  },
  {
   "cell_type": "markdown",
   "id": "88b0b58b",
   "metadata": {},
   "source": [
    "## 1. Setup"
   ]
  },
  {
   "cell_type": "code",
   "execution_count": 1,
   "id": "b032a396",
   "metadata": {},
   "outputs": [],
   "source": [
    "import sap10calcs"
   ]
  },
  {
   "cell_type": "markdown",
   "id": "b77b1f9f",
   "metadata": {},
   "source": [
    "## 2. Parse existing SAP XML file"
   ]
  },
  {
   "cell_type": "code",
   "execution_count": 2,
   "id": "bf4f0f7e",
   "metadata": {},
   "outputs": [
    {
     "name": "stdout",
     "output_type": "stream",
     "text": [
      "<lxml.etree._ElementTree object at 0x0000029E8D6B0E80>\n",
      "<SAP_Report {https://epbr.digital.communities.gov.uk/xsd/sap}SAP-Report>\n"
     ]
    }
   ],
   "source": [
    "tree, root = sap10calcs.parse_xml('Example - creating a complete SAP XML file.xml')\n",
    "print(tree)\n",
    "print(root)"
   ]
  },
  {
   "cell_type": "markdown",
   "id": "56858c89",
   "metadata": {},
   "source": [
    "## 3. Display XML"
   ]
  },
  {
   "cell_type": "code",
   "execution_count": 3,
   "id": "70b648e8",
   "metadata": {},
   "outputs": [
    {
     "name": "stdout",
     "output_type": "stream",
     "text": [
      "<SAP-Report xmlns=\"https://epbr.digital.communities.gov.uk/xsd/sap\">\n",
      "  <Schema-Version-Original>SAP-Schema-19.1.0</Schema-Version-Original>\n",
      "  <SAP-Version>10.2 ['SAP version 10.2, dated Oct 2020']</SAP-Version>\n",
      "  <SAP10-Data>\n",
      "    <Data-Type>1 ['new dwelling as designed']</Data-Type>\n",
      "    <SAP-Property-Details>\n",
      "      <Cold-Water-Source>1 ['mains']</Cold-Water-Source>\n",
      "      <Living-Area>30</Living-Area>\n",
      "      <Windows-Overshading>2 ['average or unknown']</Windows-Overshading>\n",
      "      <SAP-Building-Parts>\n",
      "        <SAP-Building-Part>\n",
      "          <Building-Part-Number>1</Building-Part-Number>\n",
      "          <SAP-Floor-Dimensions>\n",
      "            <SAP-Floor-Dimension>\n",
      "              <Floor-Type>2 ['ground floor']</Floor-Type>\n",
      "              <Storey>0 ['Ground']</Storey>\n",
      "              <Total-Floor-Area>100</Total-Floor-Area>\n",
      "              <Storey-Height>3</Storey-Height>\n",
      "              <Heat-Loss-Area>100</Heat-Loss-Area>\n",
      "              <U-Value>0.5</U-Value>\n",
      "            </SAP-Floor-Dimension>\n",
      "          </SAP-Floor-Dimensions>\n",
      "          <SAP-Walls>\n",
      "            <SAP-Wall>\n",
      "              <Wall-Type>2 ['exposed wall']</Wall-Type>\n",
      "              <Total-Wall-Area>120</Total-Wall-Area>\n",
      "              <U-Value>0.5</U-Value>\n",
      "              <Name>sap_wall_1_1</Name>\n",
      "            </SAP-Wall>\n",
      "          </SAP-Walls>\n",
      "          <SAP-Roofs>\n",
      "            <SAP-Roof>\n",
      "              <Total-Roof-Area>100</Total-Roof-Area>\n",
      "              <U-Value>0.5</U-Value>\n",
      "              <Roof-Type>2 ['exposed roof']</Roof-Type>\n",
      "              <Name>sap_roof_1_1</Name>\n",
      "            </SAP-Roof>\n",
      "          </SAP-Roofs>\n",
      "          <SAP-Openings>\n",
      "            <SAP-Opening>\n",
      "              <Type>sap_opening_type_1</Type>\n",
      "              <Height>1.5</Height>\n",
      "              <Width>5</Width>\n",
      "              <Location>sap_wall_1_1</Location>\n",
      "              <Orientation>5 ['South']</Orientation>\n",
      "            </SAP-Opening>\n",
      "          </SAP-Openings>\n",
      "          <SAP-Thermal-Bridges>\n",
      "            <Thermal-Bridge-Code>1 ['default']</Thermal-Bridge-Code>\n",
      "          </SAP-Thermal-Bridges>\n",
      "        </SAP-Building-Part>\n",
      "      </SAP-Building-Parts>\n",
      "      <SAP-Opening-Types>\n",
      "        <SAP-Opening-Type>\n",
      "          <Name>sap_opening_type_1</Name>\n",
      "          <Type>4 ['window']</Type>\n",
      "          <Data-Source>2 ['manufacturer declaration']</Data-Source>\n",
      "          <U-Value>1.5</U-Value>\n",
      "          <Glazing-Type>3 ['double']</Glazing-Type>\n",
      "        </SAP-Opening-Type>\n",
      "      </SAP-Opening-Types>\n",
      "      <SAP-Heating>\n",
      "        <Has-Hot-Water-Cylinder>0 ['False']</Has-Hot-Water-Cylinder>\n",
      "        <Thermal-Store>1 ['none']</Thermal-Store>\n",
      "        <Secondary-Heating-Category>1 ['none']</Secondary-Heating-Category>\n",
      "        <Water-Heating-Code>901</Water-Heating-Code>\n",
      "        <Main-Heating-Details>\n",
      "          <Main-Heating>\n",
      "            <Main-Heating-Number>1</Main-Heating-Number>\n",
      "            <Main-Fuel-Type>1 ['Gas: mains gas']</Main-Fuel-Type>\n",
      "            <Main-Heating-Category>2 ['boiler with radiators or underfloor heating']</Main-Heating-Category>\n",
      "            <Main-Heating-Data-Source>3 ['from SAP table']</Main-Heating-Data-Source>\n",
      "            <Main-Heating-Code>104</Main-Heating-Code>\n",
      "            <Is-Central-Heating-Pump-In-Heated-Space>1 ['True']</Is-Central-Heating-Pump-In-Heated-Space>\n",
      "            <Main-Heating-Fraction>1</Main-Heating-Fraction>\n",
      "            <Heat-Emitter-Type>1 ['radiators']</Heat-Emitter-Type>\n",
      "            <Main-Heating-Control>2106</Main-Heating-Control>\n",
      "            <Has-Separate-Delayed-Start>0 ['False']</Has-Separate-Delayed-Start>\n",
      "            <Is-Interlocked-System>0 ['False']</Is-Interlocked-System>\n",
      "          </Main-Heating>\n",
      "        </Main-Heating-Details>\n",
      "      </SAP-Heating>\n",
      "      <SAP-Ventilation>\n",
      "        <Open-Chimneys-Count>0</Open-Chimneys-Count>\n",
      "        <Open-Flues-Count>0</Open-Flues-Count>\n",
      "        <Closed-Flues-Count>0</Closed-Flues-Count>\n",
      "        <Boilers-Flues-Count>0</Boilers-Flues-Count>\n",
      "        <Other-Flues-Count>0</Other-Flues-Count>\n",
      "        <Blocked-Chimneys-Count>0</Blocked-Chimneys-Count>\n",
      "        <Extract-Fans-Count>0</Extract-Fans-Count>\n",
      "        <PSV-Count>0</PSV-Count>\n",
      "        <Flueless-Gas-Fires-Count>0</Flueless-Gas-Fires-Count>\n",
      "        <Pressure-Test>2 ['yes (new dwelling, design value)']</Pressure-Test>\n",
      "        <Air-Permeability>3.5</Air-Permeability>\n",
      "        <Sheltered-Sides-Count>2</Sheltered-Sides-Count>\n",
      "        <Ventilation-Type>1 ['natural with intermittent extract fans']</Ventilation-Type>\n",
      "      </SAP-Ventilation>\n",
      "    </SAP-Property-Details>\n",
      "  </SAP10-Data>\n",
      "</SAP-Report>\n",
      "\n"
     ]
    }
   ],
   "source": [
    "print(root.display(show_values = True))"
   ]
  },
  {
   "cell_type": "code",
   "execution_count": null,
   "id": "699e1f90",
   "metadata": {},
   "outputs": [],
   "source": []
  }
 ],
 "metadata": {
  "kernelspec": {
   "display_name": "Python 3 (ipykernel)",
   "language": "python",
   "name": "python3"
  },
  "language_info": {
   "codemirror_mode": {
    "name": "ipython",
    "version": 3
   },
   "file_extension": ".py",
   "mimetype": "text/x-python",
   "name": "python",
   "nbconvert_exporter": "python",
   "pygments_lexer": "ipython3",
   "version": "3.9.18"
  }
 },
 "nbformat": 4,
 "nbformat_minor": 5
}
