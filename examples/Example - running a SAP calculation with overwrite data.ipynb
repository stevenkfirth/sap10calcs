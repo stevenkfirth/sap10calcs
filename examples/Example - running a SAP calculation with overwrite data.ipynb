{
 "cells": [
  {
   "cell_type": "markdown",
   "id": "4a45260c",
   "metadata": {},
   "source": [
    "# Example - running a SAP calculation with overwrite data\n",
    "\n",
    "This notebook runs SAP10 calculation and overwrites some intermediate calculations with user supplied values.\n",
    "\n",
    "This uses the [sap10calcs Python package](https://github.com/stevenkfirth/sap10calcs)."
   ]
  },
  {
   "cell_type": "markdown",
   "id": "7e38e317",
   "metadata": {},
   "source": [
    "## 1. Setup"
   ]
  },
  {
   "cell_type": "code",
   "execution_count": 1,
   "id": "30a8b5d3",
   "metadata": {},
   "outputs": [],
   "source": [
    "import sap10calcs"
   ]
  },
  {
   "cell_type": "markdown",
   "id": "c1386027",
   "metadata": {},
   "source": [
    "## 2. Run a normal SAP calculation\n",
    "\n",
    "This shows that the dwelling is 'C' rated and the default gas fuel price used in SAP is 3.64 p/kWh."
   ]
  },
  {
   "cell_type": "code",
   "execution_count": 2,
   "id": "a429bed0",
   "metadata": {},
   "outputs": [
    {
     "name": "stdout",
     "output_type": "stream",
     "text": [
      "success: True\n",
      "space_heating_main_system_1_other_fuel_price: 3.64\n",
      "sap_value: 73.92082535021098\n",
      "sap_band: C\n"
     ]
    }
   ],
   "source": [
    "response = sap10calcs.calculate(\n",
    "    input_file = 'Example - creating a complete SAP XML file.xml',\n",
    "    auth_token = None\n",
    ")\n",
    "output_dict = response.pop('sap_calculation_output_dict')\n",
    "print('success:', response['sap_calculation_success'])\n",
    "print('space_heating_main_system_1_other_fuel_price:', output_dict['space_heating_main_system_1_other_fuel_price'])\n",
    "print('sap_value:', output_dict['sap_value'])\n",
    "print('sap_band:', output_dict['sap_band'])\n"
   ]
  },
  {
   "cell_type": "markdown",
   "id": "ca783c67",
   "metadata": {},
   "source": [
    "## 3. Rerun the SAP calculation and overwrite the gas price\n",
    "\n",
    "Let's look at gas prices from 1p/kWh to 5p/kWh"
   ]
  },
  {
   "cell_type": "code",
   "execution_count": 3,
   "id": "ebf69eee",
   "metadata": {},
   "outputs": [
    {
     "data": {
      "text/plain": [
       "[{'space_heating_main_system_1_other_fuel_price': 1,\n",
       "  'sap_value': 84.33375887248695,\n",
       "  'sap_band': 'B'},\n",
       " {'space_heating_main_system_1_other_fuel_price': 2,\n",
       "  'sap_value': 80.38946587162485,\n",
       "  'sap_band': 'C'},\n",
       " {'space_heating_main_system_1_other_fuel_price': 3,\n",
       "  'sap_value': 76.44517287076273,\n",
       "  'sap_band': 'C'},\n",
       " {'space_heating_main_system_1_other_fuel_price': 4,\n",
       "  'sap_value': 72.50087986990061,\n",
       "  'sap_band': 'C'},\n",
       " {'space_heating_main_system_1_other_fuel_price': 5,\n",
       "  'sap_value': 68.55658686903851,\n",
       "  'sap_band': 'C'}]"
      ]
     },
     "execution_count": 3,
     "metadata": {},
     "output_type": "execute_result"
    }
   ],
   "source": [
    "# this runs 5 SAP calculations\n",
    "result = []\n",
    "for i in range(1,6):\n",
    "    response = sap10calcs.calculate(\n",
    "        input_file = 'Example - creating a complete SAP XML file.xml',\n",
    "        extra = {\n",
    "            'overwrite': {\n",
    "                'space_heating_main_system_1_other_fuel_price': i  # this overwrites the gas price\n",
    "            }\n",
    "        },\n",
    "        auth_token = None\n",
    "    )\n",
    "    output_dict = response.pop('sap_calculation_output_dict')\n",
    "    result.append(\n",
    "        dict(\n",
    "            space_heating_main_system_1_other_fuel_price = i,\n",
    "            sap_value = output_dict['sap_value'],\n",
    "            sap_band = output_dict['sap_band']\n",
    "        \n",
    "        )\n",
    "    )\n",
    "result"
   ]
  },
  {
   "cell_type": "markdown",
   "id": "1737f5c6",
   "metadata": {},
   "source": [
    "This shows that varying the gas price has an impact on the SAP value and the SAP band.\n",
    "- Setting the gas price to 1p/kWh increases the SAP value to 84.3 (a 'B' rating).\n",
    "- Setting the gas price to 5p/kWh increases the SAP value to 68.6 (a 'C' rating)."
   ]
  }
 ],
 "metadata": {
  "kernelspec": {
   "display_name": "Python 3 (ipykernel)",
   "language": "python",
   "name": "python3"
  },
  "language_info": {
   "codemirror_mode": {
    "name": "ipython",
    "version": 3
   },
   "file_extension": ".py",
   "mimetype": "text/x-python",
   "name": "python",
   "nbconvert_exporter": "python",
   "pygments_lexer": "ipython3",
   "version": "3.9.18"
  }
 },
 "nbformat": 4,
 "nbformat_minor": 5
}
