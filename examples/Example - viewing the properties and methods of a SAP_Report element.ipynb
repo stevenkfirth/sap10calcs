{
 "cells": [
  {
   "cell_type": "markdown",
   "id": "68f12f2f",
   "metadata": {},
   "source": [
    "# Example - viewing the properties and methods of a SAP_Report element\n",
    "\n",
    "This notebook demostrates how to work with SAP XML files.\n",
    "\n",
    "This uses the [sap10calcs Python package](https://github.com/stevenkfirth/sap10calcs)."
   ]
  },
  {
   "cell_type": "markdown",
   "id": "dc32be32",
   "metadata": {},
   "source": [
    "## 1. Setup"
   ]
  },
  {
   "cell_type": "code",
   "execution_count": 1,
   "id": "9283f468",
   "metadata": {},
   "outputs": [],
   "source": [
    "import sap10calcs"
   ]
  },
  {
   "cell_type": "markdown",
   "id": "f5a2e0dd",
   "metadata": {},
   "source": [
    "## 2. Parse SAP XML file"
   ]
  },
  {
   "cell_type": "code",
   "execution_count": 2,
   "id": "9a1865c9",
   "metadata": {},
   "outputs": [
    {
     "name": "stdout",
     "output_type": "stream",
     "text": [
      "<lxml.etree._ElementTree object at 0x0000022A0A983900>\n",
      "<SAP_Report {https://epbr.digital.communities.gov.uk/xsd/sap}SAP-Report>\n"
     ]
    }
   ],
   "source": [
    "tree, sap_report = sap10calcs.parse_xml('Example - creating a complete SAP XML file.xml')\n",
    "print(tree)\n",
    "print(sap_report)"
   ]
  },
  {
   "cell_type": "code",
   "execution_count": 3,
   "id": "76af0524",
   "metadata": {
    "scrolled": true
   },
   "outputs": [
    {
     "name": "stdout",
     "output_type": "stream",
     "text": [
      "<SAP-Report xmlns=\"https://epbr.digital.communities.gov.uk/xsd/sap\">\n",
      "  <Schema-Version-Original>SAP-Schema-19.1.0</Schema-Version-Original>\n",
      "  <SAP-Version>10.2 ['SAP version 10.2, dated Oct 2020']</SAP-Version>\n",
      "  <SAP10-Data>\n",
      "    <Data-Type>1 ['new dwelling as designed']</Data-Type>\n",
      "    <SAP-Property-Details>\n",
      "      <Cold-Water-Source>1 ['mains']</Cold-Water-Source>\n",
      "      <Living-Area>30</Living-Area>\n",
      "      <Windows-Overshading>2 ['average or unknown']</Windows-Overshading>\n",
      "      <SAP-Building-Parts>\n",
      "        <SAP-Building-Part>\n",
      "          <Building-Part-Number>1</Building-Part-Number>\n",
      "          <SAP-Floor-Dimensions>\n",
      "            <SAP-Floor-Dimension>\n",
      "              <Floor-Type>2 ['ground floor']</Floor-Type>\n",
      "              <Storey>0 ['Ground']</Storey>\n",
      "              <Total-Floor-Area>100</Total-Floor-Area>\n",
      "              <Storey-Height>3</Storey-Height>\n",
      "              <Heat-Loss-Area>100</Heat-Loss-Area>\n",
      "              <U-Value>0.5</U-Value>\n",
      "            </SAP-Floor-Dimension>\n",
      "          </SAP-Floor-Dimensions>\n",
      "          <SAP-Walls>\n",
      "            <SAP-Wall>\n",
      "              <Wall-Type>2 ['exposed wall']</Wall-Type>\n",
      "              <Total-Wall-Area>120</Total-Wall-Area>\n",
      "              <U-Value>0.5</U-Value>\n",
      "              <Name>sap_wall_1_1</Name>\n",
      "            </SAP-Wall>\n",
      "          </SAP-Walls>\n",
      "          <SAP-Roofs>\n",
      "            <SAP-Roof>\n",
      "              <Total-Roof-Area>100</Total-Roof-Area>\n",
      "              <U-Value>0.5</U-Value>\n",
      "              <Roof-Type>2 ['exposed roof']</Roof-Type>\n",
      "              <Name>sap_roof_1_1</Name>\n",
      "            </SAP-Roof>\n",
      "          </SAP-Roofs>\n",
      "          <SAP-Openings>\n",
      "            <SAP-Opening>\n",
      "              <Type>sap_opening_type_1</Type>\n",
      "              <Height>1.5</Height>\n",
      "              <Width>5</Width>\n",
      "              <Location>sap_wall_1_1</Location>\n",
      "              <Orientation>5 ['South']</Orientation>\n",
      "            </SAP-Opening>\n",
      "          </SAP-Openings>\n",
      "          <SAP-Thermal-Bridges>\n",
      "            <Thermal-Bridge-Code>1 ['default']</Thermal-Bridge-Code>\n",
      "          </SAP-Thermal-Bridges>\n",
      "        </SAP-Building-Part>\n",
      "      </SAP-Building-Parts>\n",
      "      <SAP-Opening-Types>\n",
      "        <SAP-Opening-Type>\n",
      "          <Name>sap_opening_type_1</Name>\n",
      "          <Type>4 ['window']</Type>\n",
      "          <Data-Source>2 ['manufacturer declaration']</Data-Source>\n",
      "          <U-Value>1.5</U-Value>\n",
      "          <Glazing-Type>3 ['double']</Glazing-Type>\n",
      "        </SAP-Opening-Type>\n",
      "      </SAP-Opening-Types>\n",
      "      <SAP-Heating>\n",
      "        <Has-Hot-Water-Cylinder>0 ['False']</Has-Hot-Water-Cylinder>\n",
      "        <Thermal-Store>1 ['none']</Thermal-Store>\n",
      "        <Secondary-Heating-Category>1 ['none']</Secondary-Heating-Category>\n",
      "        <Water-Heating-Code>901</Water-Heating-Code>\n",
      "        <Main-Heating-Details>\n",
      "          <Main-Heating>\n",
      "            <Main-Heating-Number>1</Main-Heating-Number>\n",
      "            <Main-Fuel-Type>1 ['Gas: mains gas']</Main-Fuel-Type>\n",
      "            <Main-Heating-Category>2 ['boiler with radiators or underfloor heating']</Main-Heating-Category>\n",
      "            <Main-Heating-Data-Source>3 ['from SAP table']</Main-Heating-Data-Source>\n",
      "            <Main-Heating-Code>104</Main-Heating-Code>\n",
      "            <Is-Central-Heating-Pump-In-Heated-Space>1 ['True']</Is-Central-Heating-Pump-In-Heated-Space>\n",
      "            <Main-Heating-Fraction>1</Main-Heating-Fraction>\n",
      "            <Heat-Emitter-Type>1 ['radiators']</Heat-Emitter-Type>\n",
      "            <Main-Heating-Control>2106</Main-Heating-Control>\n",
      "            <Has-Separate-Delayed-Start>0 ['False']</Has-Separate-Delayed-Start>\n",
      "            <Is-Interlocked-System>0 ['False']</Is-Interlocked-System>\n",
      "          </Main-Heating>\n",
      "        </Main-Heating-Details>\n",
      "      </SAP-Heating>\n",
      "      <SAP-Ventilation>\n",
      "        <Open-Chimneys-Count>0</Open-Chimneys-Count>\n",
      "        <Open-Flues-Count>0</Open-Flues-Count>\n",
      "        <Closed-Flues-Count>0</Closed-Flues-Count>\n",
      "        <Boilers-Flues-Count>0</Boilers-Flues-Count>\n",
      "        <Other-Flues-Count>0</Other-Flues-Count>\n",
      "        <Blocked-Chimneys-Count>0</Blocked-Chimneys-Count>\n",
      "        <Extract-Fans-Count>0</Extract-Fans-Count>\n",
      "        <PSV-Count>0</PSV-Count>\n",
      "        <Flueless-Gas-Fires-Count>0</Flueless-Gas-Fires-Count>\n",
      "        <Pressure-Test>2 ['yes (new dwelling, design value)']</Pressure-Test>\n",
      "        <Air-Permeability>3.5</Air-Permeability>\n",
      "        <Sheltered-Sides-Count>2</Sheltered-Sides-Count>\n",
      "        <Ventilation-Type>1 ['natural with intermittent extract fans']</Ventilation-Type>\n",
      "      </SAP-Ventilation>\n",
      "    </SAP-Property-Details>\n",
      "  </SAP10-Data>\n",
      "</SAP-Report>\n",
      "\n"
     ]
    }
   ],
   "source": [
    "print(sap_report.display())"
   ]
  },
  {
   "cell_type": "markdown",
   "id": "9628d08e",
   "metadata": {},
   "source": [
    "## 3. View the custom properties of the SAP_Report element"
   ]
  },
  {
   "cell_type": "code",
   "execution_count": 4,
   "id": "fa4531ac",
   "metadata": {},
   "outputs": [
    {
     "data": {
      "text/plain": [
       "['code',\n",
       " 'value',\n",
       " 'sap_xml_codes',\n",
       " 'schema_version_original',\n",
       " 'schema_version_current',\n",
       " 'sap_version',\n",
       " 'sap_data_version',\n",
       " 'pcdf_revision_number',\n",
       " 'calculation_software_name',\n",
       " 'calculation_software_version',\n",
       " 'user_interface_name',\n",
       " 'user_interface_version',\n",
       " 'report_header',\n",
       " 'energy_assessment',\n",
       " 'sap10_data',\n",
       " 'pdf',\n",
       " 'insurance_details',\n",
       " 'externaldefinitions_revision_number']"
      ]
     },
     "execution_count": 4,
     "metadata": {},
     "output_type": "execute_result"
    }
   ],
   "source": [
    "# sap_xml_properties\n",
    "# - a list of the sal xml properties available.\n",
    "# - `code` is used to get or set the code for the element.\n",
    "# - `value` is used to get or set the value for the element.\n",
    "# - `sap_xml_codes` lists the possible codes and values for the element.\n",
    "# - the remaining properties are used to access the child elements.\n",
    "sap_report.sap_xml_properties"
   ]
  },
  {
   "cell_type": "code",
   "execution_count": 5,
   "id": "bb168af6",
   "metadata": {},
   "outputs": [
    {
     "data": {
      "text/plain": [
       "<SAP_Version {https://epbr.digital.communities.gov.uk/xsd/sap}SAP-Version>"
      ]
     },
     "execution_count": 5,
     "metadata": {},
     "output_type": "execute_result"
    }
   ],
   "source": [
    "# example - how to accesses a child element.\n",
    "sap_report.sap_version"
   ]
  },
  {
   "cell_type": "code",
   "execution_count": 6,
   "id": "d06084f7",
   "metadata": {},
   "outputs": [
    {
     "data": {
      "text/plain": [
       "('10.2', 'SAP version 10.2, dated Oct 2020')"
      ]
     },
     "execution_count": 6,
     "metadata": {},
     "output_type": "execute_result"
    }
   ],
   "source": [
    "# example - get the code and value for an element\n",
    "sap_report.sap_version.code, sap_report.sap_version.value"
   ]
  },
  {
   "cell_type": "code",
   "execution_count": 7,
   "id": "d4259631",
   "metadata": {},
   "outputs": [
    {
     "data": {
      "text/plain": [
       "{'9.80': 'SAP 2005 version 9.80, dated October 2005',\n",
       " '9.81': 'SAP version 9.81, dated January 2008',\n",
       " '9.82': 'SAP version 9.82, dated Jun 2008',\n",
       " '9.83': 'SAP version 9.83, dated Jun 2009',\n",
       " '9.90': 'SAP version 9.90, dated Mar 2010',\n",
       " '9.91': 'SAP version 9.91, dated Jan 2012',\n",
       " '9.92': 'SAP version 9.92, dated Oct 2013',\n",
       " '10.2': 'SAP version 10.2, dated Oct 2020'}"
      ]
     },
     "execution_count": 7,
     "metadata": {},
     "output_type": "execute_result"
    }
   ],
   "source": [
    "# example - get all possible codes and values for an element\n",
    "sap_report.sap_version.sap_xml_codes"
   ]
  },
  {
   "cell_type": "code",
   "execution_count": 8,
   "id": "dc355f5e",
   "metadata": {},
   "outputs": [
    {
     "data": {
      "text/plain": [
       "('9.80', 'SAP 2005 version 9.80, dated October 2005')"
      ]
     },
     "execution_count": 8,
     "metadata": {},
     "output_type": "execute_result"
    }
   ],
   "source": [
    "# example - update the code of an element\n",
    "sap_report.sap_version.code = '9.80'\n",
    "sap_report.sap_version.code, sap_report.sap_version.value"
   ]
  },
  {
   "cell_type": "code",
   "execution_count": 9,
   "id": "0e689653",
   "metadata": {},
   "outputs": [
    {
     "data": {
      "text/plain": [
       "('9.91', 'SAP version 9.91, dated Jan 2012')"
      ]
     },
     "execution_count": 9,
     "metadata": {},
     "output_type": "execute_result"
    }
   ],
   "source": [
    "# example - update the value of an element\n",
    "sap_report.sap_version.value = 'SAP version 9.91, dated Jan 2012'\n",
    "sap_report.sap_version.code, sap_report.sap_version.value"
   ]
  },
  {
   "cell_type": "markdown",
   "id": "673b6320",
   "metadata": {},
   "source": [
    "The full set of class properties for all classes can be seen in the source code [here](../sap10calcs/classes_SAP_Schema_19_1_0.py)"
   ]
  },
  {
   "cell_type": "markdown",
   "id": "545c13f1",
   "metadata": {},
   "source": [
    "## 4. Viewing the custom methods of the SAP_Report element"
   ]
  },
  {
   "cell_type": "code",
   "execution_count": 11,
   "id": "1654be66",
   "metadata": {},
   "outputs": [
    {
     "data": {
      "text/plain": [
       "['copy',\n",
       " 'display',\n",
       " 'add_code',\n",
       " 'add_value',\n",
       " 'add_sap_xml_codes',\n",
       " 'add_schema_version_original',\n",
       " 'add_schema_version_current',\n",
       " 'add_sap_version',\n",
       " 'add_sap_data_version',\n",
       " 'add_pcdf_revision_number',\n",
       " 'add_calculation_software_name',\n",
       " 'add_calculation_software_version',\n",
       " 'add_user_interface_name',\n",
       " 'add_user_interface_version',\n",
       " 'add_report_header',\n",
       " 'add_energy_assessment',\n",
       " 'add_sap10_data',\n",
       " 'add_pdf',\n",
       " 'add_insurance_details',\n",
       " 'add_externaldefinitions_revision_number']"
      ]
     },
     "execution_count": 11,
     "metadata": {},
     "output_type": "execute_result"
    }
   ],
   "source": [
    "# sap_xml_methods\n",
    "# - `copy` returns a deepcopy of the element.\n",
    "# - `display` returns a string of the elment and child elements for display. Use `show_values = True` to show \n",
    "#    the values as well as the codes for each element.\n",
    "# - the remaining methods are used to add child elements to the element.\n",
    "sap_report.sap_xml_methods"
   ]
  },
  {
   "cell_type": "code",
   "execution_count": 12,
   "id": "5ea23bf5",
   "metadata": {},
   "outputs": [
    {
     "data": {
      "text/plain": [
       "<SAP_Version {https://epbr.digital.communities.gov.uk/xsd/sap}SAP-Version>"
      ]
     },
     "execution_count": 12,
     "metadata": {},
     "output_type": "execute_result"
    }
   ],
   "source": [
    "# example - create a copy of an element\n",
    "sap_version_copy = sap_report.sap_version.copy()\n",
    "sap_version_copy"
   ]
  },
  {
   "cell_type": "code",
   "execution_count": 13,
   "id": "e5f14121",
   "metadata": {},
   "outputs": [
    {
     "name": "stdout",
     "output_type": "stream",
     "text": [
      "<SAP-Version xmlns=\"https://epbr.digital.communities.gov.uk/xsd/sap\">9.91</SAP-Version>\n",
      "\n"
     ]
    }
   ],
   "source": [
    "# example - display an element with codes only\n",
    "print(sap_report.sap_version.display(show_values = False))"
   ]
  },
  {
   "cell_type": "code",
   "execution_count": 14,
   "id": "08b62ad6",
   "metadata": {},
   "outputs": [
    {
     "name": "stdout",
     "output_type": "stream",
     "text": [
      "<SAP-Version xmlns=\"https://epbr.digital.communities.gov.uk/xsd/sap\">9.91 ['SAP version 9.91, dated Jan 2012']</SAP-Version>\n",
      "\n"
     ]
    }
   ],
   "source": [
    "# example - display an element with codes and values\n",
    "print(sap_report.sap_version.display(show_values = True))"
   ]
  },
  {
   "cell_type": "code",
   "execution_count": 15,
   "id": "d272711b",
   "metadata": {},
   "outputs": [
    {
     "name": "stdout",
     "output_type": "stream",
     "text": [
      "<Calculation-Software-Name xmlns=\"https://epbr.digital.communities.gov.uk/xsd/sap\">The sap10 Python package</Calculation-Software-Name>\n",
      "\n"
     ]
    }
   ],
   "source": [
    "# example - add an element\n",
    "sap_report.add_calculation_software_name().value = 'The sap10 Python package'\n",
    "print(sap_report.calculation_software_name.display())"
   ]
  },
  {
   "cell_type": "code",
   "execution_count": null,
   "id": "26872284",
   "metadata": {},
   "outputs": [],
   "source": []
  }
 ],
 "metadata": {
  "kernelspec": {
   "display_name": "Python 3 (ipykernel)",
   "language": "python",
   "name": "python3"
  },
  "language_info": {
   "codemirror_mode": {
    "name": "ipython",
    "version": 3
   },
   "file_extension": ".py",
   "mimetype": "text/x-python",
   "name": "python",
   "nbconvert_exporter": "python",
   "pygments_lexer": "ipython3",
   "version": "3.9.18"
  }
 },
 "nbformat": 4,
 "nbformat_minor": 5
}
