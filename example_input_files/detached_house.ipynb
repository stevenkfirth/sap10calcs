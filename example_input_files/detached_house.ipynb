{
 "cells": [
  {
   "cell_type": "markdown",
   "id": "c259db2e",
   "metadata": {},
   "source": [
    "# detached_house\n",
    "\n",
    "This notebook creates a SAP XML input file for a SAP10 calculation.\n",
    "\n",
    "The dwelling is:\n",
    "- A detached house\n",
    "- New dwelling\n",
    "- Single story\n",
    "- Floor dimensions 10m x 10m\n",
    "- Floor-to-ceiling height is 3m\n",
    "- A single window facing South\n",
    "- Gas central heating\n",
    "\n",
    "This uses the [sap10calcs Python package](https://github.com/stevenkfirth/sap10calcs)."
   ]
  },
  {
   "cell_type": "markdown",
   "id": "dc81933d",
   "metadata": {},
   "source": [
    "## 1. Setup"
   ]
  },
  {
   "cell_type": "code",
   "execution_count": 11,
   "id": "f5d2d754",
   "metadata": {},
   "outputs": [],
   "source": [
    "import sap10calcs"
   ]
  },
  {
   "cell_type": "markdown",
   "id": "34e073ea",
   "metadata": {},
   "source": [
    "## 2. Create input XML file"
   ]
  },
  {
   "cell_type": "code",
   "execution_count": 12,
   "id": "8fbda10e",
   "metadata": {},
   "outputs": [
    {
     "name": "stdout",
     "output_type": "stream",
     "text": [
      "<SAP-Report xmlns=\"https://epbr.digital.communities.gov.uk/xsd/sap\">\n",
      "  <Schema-Version-Original>SAP-Schema-19.1.0</Schema-Version-Original>\n",
      "  <SAP-Version>10.2 ['SAP version 10.2, dated Oct 2020']</SAP-Version>\n",
      "  <SAP10-Data>\n",
      "    <Data-Type>1 ['new dwelling as designed']</Data-Type>\n",
      "    <SAP-Property-Details>\n",
      "      <Cold-Water-Source>1 ['mains']</Cold-Water-Source>\n",
      "      <Living-Area>30</Living-Area>\n",
      "      <Windows-Overshading>2 ['average or unknown']</Windows-Overshading>\n",
      "      <SAP-Building-Parts>\n",
      "        <SAP-Building-Part>\n",
      "          <Building-Part-Number>1</Building-Part-Number>\n",
      "          <SAP-Floor-Dimensions>\n",
      "            <SAP-Floor-Dimension>\n",
      "              <Floor-Type>2 ['ground floor']</Floor-Type>\n",
      "              <Storey>0 ['Ground']</Storey>\n",
      "              <Total-Floor-Area>100</Total-Floor-Area>\n",
      "              <Storey-Height>3</Storey-Height>\n",
      "              <Heat-Loss-Area>100</Heat-Loss-Area>\n",
      "              <U-Value>0.5</U-Value>\n",
      "            </SAP-Floor-Dimension>\n",
      "          </SAP-Floor-Dimensions>\n",
      "          <SAP-Walls>\n",
      "            <SAP-Wall>\n",
      "              <Wall-Type>2 ['exposed wall']</Wall-Type>\n",
      "              <Total-Wall-Area>120</Total-Wall-Area>\n",
      "              <U-Value>0.5</U-Value>\n",
      "              <Name>sap_wall_1_1</Name>\n",
      "            </SAP-Wall>\n",
      "          </SAP-Walls>\n",
      "          <SAP-Roofs>\n",
      "            <SAP-Roof>\n",
      "              <Total-Roof-Area>100</Total-Roof-Area>\n",
      "              <U-Value>0.5</U-Value>\n",
      "              <Roof-Type>2 ['exposed roof']</Roof-Type>\n",
      "              <Name>sap_roof_1_1</Name>\n",
      "            </SAP-Roof>\n",
      "          </SAP-Roofs>\n",
      "          <SAP-Openings>\n",
      "            <SAP-Opening>\n",
      "              <Type>sap_opening_type_1</Type>\n",
      "              <Height>1.5</Height>\n",
      "              <Width>5</Width>\n",
      "              <Location>sap_wall_1_1</Location>\n",
      "              <Orientation>5 ['South']</Orientation>\n",
      "            </SAP-Opening>\n",
      "          </SAP-Openings>\n",
      "          <SAP-Thermal-Bridges>\n",
      "            <Thermal-Bridge-Code>1 ['default']</Thermal-Bridge-Code>\n",
      "          </SAP-Thermal-Bridges>\n",
      "        </SAP-Building-Part>\n",
      "      </SAP-Building-Parts>\n",
      "      <SAP-Opening-Types>\n",
      "        <SAP-Opening-Type>\n",
      "          <Name>sap_opening_type_1</Name>\n",
      "          <Type>4 ['window']</Type>\n",
      "          <Data-Source>2 ['manufacturer declaration']</Data-Source>\n",
      "          <U-Value>1.5</U-Value>\n",
      "          <Glazing-Type>3 ['double']</Glazing-Type>\n",
      "        </SAP-Opening-Type>\n",
      "      </SAP-Opening-Types>\n",
      "      <SAP-Heating>\n",
      "        <Has-Hot-Water-Cylinder>0 ['False']</Has-Hot-Water-Cylinder>\n",
      "        <Thermal-Store>1 ['none']</Thermal-Store>\n",
      "        <Secondary-Heating-Category>1 ['none']</Secondary-Heating-Category>\n",
      "        <Water-Heating-Code>901</Water-Heating-Code>\n",
      "        <Main-Heating-Details>\n",
      "          <Main-Heating>\n",
      "            <Main-Heating-Number>1</Main-Heating-Number>\n",
      "            <Main-Fuel-Type>1 ['Gas: mains gas']</Main-Fuel-Type>\n",
      "            <Main-Heating-Category>2 ['boiler with radiators or underfloor heating']</Main-Heating-Category>\n",
      "            <Main-Heating-Data-Source>3 ['from SAP table']</Main-Heating-Data-Source>\n",
      "            <Main-Heating-Code>104</Main-Heating-Code>\n",
      "            <Is-Central-Heating-Pump-In-Heated-Space>1 ['True']</Is-Central-Heating-Pump-In-Heated-Space>\n",
      "            <Main-Heating-Fraction>1</Main-Heating-Fraction>\n",
      "            <Heat-Emitter-Type>1 ['radiators']</Heat-Emitter-Type>\n",
      "            <Main-Heating-Control>2106</Main-Heating-Control>\n",
      "            <Has-Separate-Delayed-Start>0 ['False']</Has-Separate-Delayed-Start>\n",
      "            <Is-Interlocked-System>0 ['False']</Is-Interlocked-System>\n",
      "          </Main-Heating>\n",
      "        </Main-Heating-Details>\n",
      "      </SAP-Heating>\n",
      "      <SAP-Ventilation>\n",
      "        <Open-Chimneys-Count>0</Open-Chimneys-Count>\n",
      "        <Open-Flues-Count>0</Open-Flues-Count>\n",
      "        <Closed-Flues-Count>0</Closed-Flues-Count>\n",
      "        <Boilers-Flues-Count>0</Boilers-Flues-Count>\n",
      "        <Other-Flues-Count>0</Other-Flues-Count>\n",
      "        <Blocked-Chimneys-Count>0</Blocked-Chimneys-Count>\n",
      "        <Extract-Fans-Count>0</Extract-Fans-Count>\n",
      "        <PSV-Count>0</PSV-Count>\n",
      "        <Flueless-Gas-Fires-Count>0</Flueless-Gas-Fires-Count>\n",
      "        <Pressure-Test>2 ['yes (new dwelling, design value)']</Pressure-Test>\n",
      "        <Air-Permeability>3.5</Air-Permeability>\n",
      "        <Sheltered-Sides-Count>2</Sheltered-Sides-Count>\n",
      "        <Ventilation-Type>1 ['natural with intermittent extract fans']</Ventilation-Type>\n",
      "      </SAP-Ventilation>\n",
      "    </SAP-Property-Details>\n",
      "  </SAP10-Data>\n",
      "</SAP-Report>\n",
      "\n"
     ]
    }
   ],
   "source": [
    "# create new sap_report element\n",
    "tree, sap_report = sap10calcs.create_sap_report_xml() \n",
    "\n",
    "# sap10_data\n",
    "sap10_data = sap_report.add_sap10_data()\n",
    "sap10_data.add_data_type().value = 'new dwelling as designed'\n",
    "\n",
    "# sap_property_details\n",
    "sap_property_details = sap10_data.add_sap_property_details()\n",
    "sap_property_details.add_cold_water_source().value = 'mains'\n",
    "sap_property_details.add_living_area().value = 30\n",
    "sap_property_details.add_windows_overshading().value = 'average or unknown'\n",
    "\n",
    "# sap_building_parts\n",
    "sap_building_parts = sap_property_details.add_sap_building_parts()\n",
    "\n",
    "# sap_building_part_1\n",
    "sap_building_part_1 = sap_building_parts.add_sap_building_part()\n",
    "sap_building_part_1.add_building_part_number().value = 1\n",
    "\n",
    "# sap_floor_dimensions_1\n",
    "sap_floor_dimensions_1 = sap_building_part_1.add_sap_floor_dimensions()\n",
    "\n",
    "# sap_floor_dimension_1_1\n",
    "sap_floor_dimension_1_1 = sap_floor_dimensions_1.add_sap_floor_dimension()\n",
    "sap_floor_dimension_1_1.add_floor_type().value = 'ground floor'\n",
    "sap_floor_dimension_1_1.add_storey().value = 'Ground'\n",
    "sap_floor_dimension_1_1.add_total_floor_area().value = 100\n",
    "sap_floor_dimension_1_1.add_storey_height().value = 3\n",
    "sap_floor_dimension_1_1.add_heat_loss_area().value = 100\n",
    "sap_floor_dimension_1_1.add_u_value().value = 0.5\n",
    "\n",
    "# sap_walls_1\n",
    "sap_walls_1 = sap_building_part_1.add_sap_walls()\n",
    "\n",
    "# sap_wall_1_1\n",
    "sap_wall_1_1 = sap_walls_1.add_sap_wall()\n",
    "sap_wall_1_1.add_wall_type().value = 'exposed wall'\n",
    "sap_wall_1_1.add_total_wall_area().value = 120\n",
    "sap_wall_1_1.add_u_value().value = 0.5\n",
    "sap_wall_1_1.add_name().value = 'sap_wall_1_1'\n",
    "\n",
    "# sap_roofs_1\n",
    "sap_roofs_1 = sap_building_part_1.add_sap_roofs()\n",
    "\n",
    "# sap_roof_1_1\n",
    "sap_roof_1_1 = sap_roofs_1.add_sap_roof()\n",
    "sap_roof_1_1.add_total_roof_area().value = 100\n",
    "sap_roof_1_1.add_u_value().value = 0.5\n",
    "sap_roof_1_1.add_roof_type().value = 'exposed roof'\n",
    "sap_roof_1_1.add_name().value = 'sap_roof_1_1'\n",
    "\n",
    "# sap_openings_1\n",
    "sap_openings_1 = sap_building_part_1.add_sap_openings()\n",
    "\n",
    "# sap_opening_1_1\n",
    "sap_opening_1_1 = sap_openings_1.add_sap_opening()\n",
    "sap_opening_1_1.add_type().value = 'sap_opening_type_1'\n",
    "sap_opening_1_1.add_height().value = 1.5\n",
    "sap_opening_1_1.add_width().value = 5\n",
    "sap_opening_1_1.add_location().value = 'sap_wall_1_1'\n",
    "sap_opening_1_1.add_orientation().value = 'South'\n",
    "\n",
    "# sap_opening_types\n",
    "sap_opening_types = sap_property_details.add_sap_opening_types()\n",
    "\n",
    "# sap_opening_type_1\n",
    "sap_opening_type_1 = sap_opening_types.add_sap_opening_type()\n",
    "sap_opening_type_1.add_name().value = 'sap_opening_type_1'\n",
    "sap_opening_type_1.add_type().value = 'window'\n",
    "sap_opening_type_1.add_data_source().value = 'manufacturer declaration'\n",
    "sap_opening_type_1.add_u_value().value = 1.5\n",
    "sap_opening_type_1.add_glazing_type().value = 'double'\n",
    "\n",
    "# sap_thermal_bridges\n",
    "sap_thermal_bridges_1 = sap_building_part_1.add_sap_thermal_bridges()\n",
    "sap_thermal_bridges_1.add_thermal_bridge_code().value = 'default'\n",
    "\n",
    "# sap_heating\n",
    "sap_heating = sap_property_details.add_sap_heating()\n",
    "sap_heating.add_has_hot_water_cylinder().value = False\n",
    "sap_heating.add_thermal_store().value = 'none'\n",
    "sap_heating.add_secondary_heating_category().value = 'none'\n",
    "sap_heating.add_water_heating_code().value = 901  # From main heating system\n",
    "\n",
    "# main_heating_details\n",
    "main_heating_details = sap_heating.add_main_heating_details()\n",
    "\n",
    "# main_heating_1\n",
    "main_heating_1 = main_heating_details.add_main_heating()\n",
    "main_heating_1.add_main_heating_number().value = 1\n",
    "main_heating_1.add_main_fuel_type().value = 'Gas: mains gas'\n",
    "main_heating_1.add_main_heating_category().value = 'boiler with radiators or underfloor heating'\n",
    "main_heating_1.add_main_heating_data_source().value = 'from SAP table'\n",
    "main_heating_1.add_main_heating_code().value = 104  \n",
    "    # \"Gas boilers (including mains gas, LPG and biogas) 1998 or later: Condensing combi with automatic ignition\"\n",
    "main_heating_1.add_is_central_heating_pump_in_heated_space().value = True\n",
    "main_heating_1.add_main_heating_fraction().value = 1\n",
    "main_heating_1.add_heat_emitter_type().value = 'radiators'\n",
    "main_heating_1.add_main_heating_control().value = 2106  # \"Programmer, room thermostat and TRVs\"\n",
    "main_heating_1.add_has_separate_delayed_start().value = False\n",
    "main_heating_1.add_is_interlocked_system().value = False\n",
    "\n",
    "# ventilation\n",
    "sap_ventilation = sap_property_details.add_sap_ventilation()\n",
    "sap_ventilation.add_open_chimneys_count().value = 0\n",
    "sap_ventilation.add_open_flues_count().value = 0\n",
    "sap_ventilation.add_closed_flues_count().value = 0\n",
    "sap_ventilation.add_boilers_flues_count().value = 0\n",
    "sap_ventilation.add_other_flues_count().value = 0\n",
    "sap_ventilation.add_blocked_chimneys_count().value = 0\n",
    "sap_ventilation.add_extract_fans_count().value = 0\n",
    "sap_ventilation.add_psv_count().value = 0\n",
    "sap_ventilation.add_flueless_gas_fires_count().value = 0\n",
    "sap_ventilation.add_pressure_test().value = 'yes (new dwelling, design value)'\n",
    "sap_ventilation.add_air_permeability().value = 3.5\n",
    "sap_ventilation.add_sheltered_sides_count().value = 2\n",
    "sap_ventilation.add_ventilation_type().value = 'natural with intermittent extract fans'\n",
    "\n",
    "print(sap_report.display(show_values = True))"
   ]
  },
  {
   "cell_type": "markdown",
   "id": "d938b397",
   "metadata": {},
   "source": [
    "## 3. Save input XML file"
   ]
  },
  {
   "cell_type": "code",
   "execution_count": 13,
   "id": "4e4597e6",
   "metadata": {},
   "outputs": [],
   "source": [
    "tree.write('detached_house.xml', encoding=\"utf-8\", xml_declaration=True, pretty_print=True)"
   ]
  },
  {
   "cell_type": "markdown",
   "id": "bf5ab7e7",
   "metadata": {},
   "source": [
    "## 4. Run SAP10 calculation"
   ]
  },
  {
   "cell_type": "code",
   "execution_count": 14,
   "id": "9935d8d7",
   "metadata": {},
   "outputs": [
    {
     "data": {
      "text/plain": [
       "{'api_call_datetime': '2024-10-26 08:01:12.980477',\n",
       " 'api_call_url': 'https://netzeroapis.com/calc/sap10?calculation_method=Energy%20rating',\n",
       " 'api_call_filename': 'file',\n",
       " 'api_call_server_time_seconds': 0.020945448894053698,\n",
       " 'licenses': ['https://netzeroapis.com/redoc#section/Terms-and-Conditions',\n",
       "  'https://creativecommons.org/publicdomain/zero/1.0/'],\n",
       " 'sap_calculation_success': True,\n",
       " 'sap_calculation_error_type': None,\n",
       " 'sap_calculation_error_message': None,\n",
       " 'sap_calculation_error_traceback': None}"
      ]
     },
     "execution_count": 14,
     "metadata": {},
     "output_type": "execute_result"
    }
   ],
   "source": [
    "result = sap10calcs.calculate(input_lxml = sap_report)\n",
    "output_dict = result.pop('sap_calculation_output_dict')\n",
    "result"
   ]
  },
  {
   "cell_type": "markdown",
   "id": "68d91312",
   "metadata": {},
   "source": [
    "## 5. View calculation results"
   ]
  },
  {
   "cell_type": "code",
   "execution_count": 15,
   "id": "3b473f38",
   "metadata": {},
   "outputs": [
    {
     "name": "stdout",
     "output_type": "stream",
     "text": [
      "['calculation_type', 'region_code', 'postcode', 'postcode_area', 'postcode_district', 'latitude', 'pcdb_fuel_price_table_name', 'main_heating_1_fghrs_index_number', 'value_1_building_part_1_level_0', 'value_2_building_part_1_level_0', 'value_3_level_0', 'value_4', 'value_5', 'value_6a_total', 'value_6a', 'value_6b_total', 'value_6b', 'value_6c_total', 'value_6c', 'value_6d_total', 'value_6d', 'value_6e_total', 'value_6e', 'value_6f_total', 'value_6f', 'value_7a_total', 'value_7a', 'value_7b_total', 'value_7b', 'value_7c_total', 'value_7c', 'value_8', 'has_pressure_test_been_carried_out_or_is_intended', 'value_9', 'value_10', 'value_11', 'value_12', 'value_13', 'value_14', 'value_15', 'value_16', 'value_17', 'value_17a', 'value_18', 'value_19', 'value_20', 'value_21', 'value_22_1', 'value_22_2', 'value_22_3', 'value_22_4', 'value_22_5', 'value_22_6', 'value_22_7', 'value_22_8', 'value_22_9', 'value_22_10', 'value_22_11', 'value_22_12', 'value_22a_1', 'value_22a_2', 'value_22a_3', 'value_22a_4', 'value_22a_5', 'value_22a_6', 'value_22a_7', 'value_22a_8', 'value_22a_9', 'value_22a_10', 'value_22a_11', 'value_22a_12', 'value_22b_1', 'value_22b_2', 'value_22b_3', 'value_22b_4', 'value_22b_5', 'value_22b_6', 'value_22b_7', 'value_22b_8', 'value_22b_9', 'value_22b_10', 'value_22b_11', 'value_22b_12', 'value_23a', 'value_23b', 'mhvr_heat_exchanger_efficiency', 'mhvr_in_use_factor', 'value_23c', 'value_24a_1', 'value_24a_2', 'value_24a_3', 'value_24a_4', 'value_24a_5', 'value_24a_6', 'value_24a_7', 'value_24a_8', 'value_24a_9', 'value_24a_10', 'value_24a_11', 'value_24a_12', 'value_24b_1', 'value_24b_2', 'value_24b_3', 'value_24b_4', 'value_24b_5', 'value_24b_6', 'value_24b_7', 'value_24b_8', 'value_24b_9', 'value_24b_10', 'value_24b_11', 'value_24b_12', 'value_24c_1', 'value_24c_2', 'value_24c_3', 'value_24c_4', 'value_24c_5', 'value_24c_6', 'value_24c_7', 'value_24c_8', 'value_24c_9', 'value_24c_10', 'value_24c_11', 'value_24c_12', 'value_24d_1', 'value_24d_2', 'value_24d_3', 'value_24d_4', 'value_24d_5', 'value_24d_6', 'value_24d_7', 'value_24d_8', 'value_24d_9', 'value_24d_10', 'value_24d_11', 'value_24d_12', 'value_25_1', 'value_25_2', 'value_25_3', 'value_25_4', 'value_25_5', 'value_25_6', 'value_25_7', 'value_25_8', 'value_25_9', 'value_25_10', 'value_25_11', 'value_25_12', 'value_26_UA', 'value_26a_UA', 'window_1_net_area', 'window_1_u_value', 'value_27_UA', 'value_27a_UA', 'value_28_UA', 'value_28_Ak', 'ground_floor_1_net_area', 'ground_floor_1_u_value', 'value_28a_UA', 'ground_floor_1_kappa_value', 'value_28a_Ak', 'value_28b_UA', 'value_28b_Ak', 'value_29_UA', 'value_29_Ak', 'external_wall_1_gross_area', 'external_wall_1_openings_area', 'external_wall_1_net_area', 'external_wall_1_u_value', 'value_29a_UA', 'external_wall_1_kappa_value', 'value_29a_Ak', 'roof_1_gross_area', 'roof_1_openings_area', 'roof_1_net_area', 'roof_1_u_value', 'value_30_UA', 'roof_1_kappa_value', 'value_30_Ak', 'value_31', 'value_32_UA', 'value_32_Ak', 'value_32a_Ak', 'value_32b_Ak', 'value_32c_Ak', 'value_32d_Ak', 'value_32e_Ak', 'value_33', 'value_34', 'value_35', 'linear_thermal_bridge_loss_building_part_1', 'value_36', 'value_36a', 'value_37', 'value_38_1', 'value_38_2', 'value_38_3', 'value_38_4', 'value_38_5', 'value_38_6', 'value_38_7', 'value_38_8', 'value_38_9', 'value_38_10', 'value_38_11', 'value_38_12', 'value_39_1', 'value_39_2', 'value_39_3', 'value_39_4', 'value_39_5', 'value_39_6', 'value_39_7', 'value_39_8', 'value_39_9', 'value_39_10', 'value_39_11', 'value_39_12', 'value_39', 'value_40_1', 'value_40_2', 'value_40_3', 'value_40_4', 'value_40_5', 'value_40_6', 'value_40_7', 'value_40_8', 'value_40_9', 'value_40_10', 'value_40_11', 'value_40_12', 'value_40', 'value_41_1', 'value_41_2', 'value_41_3', 'value_41_4', 'value_41_5', 'value_41_6', 'value_41_7', 'value_41_8', 'value_41_9', 'value_41_10', 'value_41_11', 'value_41_12', 'value_42', 'is_new_dwelling', 'are_baths_present', 'number_of_showers_per_day', 'cold_water_temperature_1', 'cold_water_temperature_2', 'cold_water_temperature_3', 'cold_water_temperature_4', 'cold_water_temperature_5', 'cold_water_temperature_6', 'cold_water_temperature_7', 'cold_water_temperature_8', 'cold_water_temperature_9', 'cold_water_temperature_10', 'cold_water_temperature_11', 'cold_water_temperature_12', 'value_42a_1', 'value_42a_2', 'value_42a_3', 'value_42a_4', 'value_42a_5', 'value_42a_6', 'value_42a_7', 'value_42a_8', 'value_42a_9', 'value_42a_10', 'value_42a_11', 'value_42a_12', 'are_showers_present', 'average_number_of_baths_per_day', 'is_dwelling_designed_to_achieve_a_water_use_target_of_not_more_than_125_litres_per_person_per_day', 'daily_warm_water_consumption_for_baths_1', 'daily_warm_water_consumption_for_baths_2', 'daily_warm_water_consumption_for_baths_3', 'daily_warm_water_consumption_for_baths_4', 'daily_warm_water_consumption_for_baths_5', 'daily_warm_water_consumption_for_baths_6', 'daily_warm_water_consumption_for_baths_7', 'daily_warm_water_consumption_for_baths_8', 'daily_warm_water_consumption_for_baths_9', 'daily_warm_water_consumption_for_baths_10', 'daily_warm_water_consumption_for_baths_11', 'daily_warm_water_consumption_for_baths_12', 'value_42b_1', 'value_42b_2', 'value_42b_3', 'value_42b_4', 'value_42b_5', 'value_42b_6', 'value_42b_7', 'value_42b_8', 'value_42b_9', 'value_42b_10', 'value_42b_11', 'value_42b_12', 'annual_average_daily_hot_water_use_for_baths', 'monthly_volume_of_warm_water_used_for_baths_1', 'monthly_volume_of_warm_water_used_for_baths_2', 'monthly_volume_of_warm_water_used_for_baths_3', 'monthly_volume_of_warm_water_used_for_baths_4', 'monthly_volume_of_warm_water_used_for_baths_5', 'monthly_volume_of_warm_water_used_for_baths_6', 'monthly_volume_of_warm_water_used_for_baths_7', 'monthly_volume_of_warm_water_used_for_baths_8', 'monthly_volume_of_warm_water_used_for_baths_9', 'monthly_volume_of_warm_water_used_for_baths_10', 'monthly_volume_of_warm_water_used_for_baths_11', 'monthly_volume_of_warm_water_used_for_baths_12', 'average_daily_hot_water_use_for_other_hot_water_uses', 'value_42c_1', 'value_42c_2', 'value_42c_3', 'value_42c_4', 'value_42c_5', 'value_42c_6', 'value_42c_7', 'value_42c_8', 'value_42c_9', 'value_42c_10', 'value_42c_11', 'value_42c_12', 'annual_average_daily_hot_water_use_for_mixer_showers', 'value_43', 'value_44_1', 'value_44_2', 'value_44_3', 'value_44_4', 'value_44_5', 'value_44_6', 'value_44_7', 'value_44_8', 'value_44_9', 'value_44_10', 'value_44_11', 'value_44_12', 'value_45_1', 'value_45_2', 'value_45_3', 'value_45_4', 'value_45_5', 'value_45_6', 'value_45_7', 'value_45_8', 'value_45_9', 'value_45_10', 'value_45_11', 'value_45_12', 'value_45', 'is_hot_water_instantaneous_at_point_of_use', 'is_hot_water_from_heat_network', 'value_46_1', 'value_46_2', 'value_46_3', 'value_46_4', 'value_46_5', 'value_46_6', 'value_46_7', 'value_46_8', 'value_46_9', 'value_46_10', 'value_46_11', 'value_46_12', 'value_47', 'is_manufacturer_declared_loss_factor_known', 'value_48', 'value_49', 'value_50', 'value_51', 'value_52', 'value_53', 'value_54', 'value_55', 'value_56_1', 'value_56_2', 'value_56_3', 'value_56_4', 'value_56_5', 'value_56_6', 'value_56_7', 'value_56_8', 'value_56_9', 'value_56_10', 'value_56_11', 'value_56_12', 'does_vessel_contain_dedicated_solar_storage', 'does_vessel_contain_dedicated_wwhrs_storage', 'V_s', 'value_57_1', 'value_57_2', 'value_57_3', 'value_57_4', 'value_57_5', 'value_57_6', 'value_57_7', 'value_57_8', 'value_57_9', 'value_57_10', 'value_57_11', 'value_57_12', 'value_59_1', 'value_59_2', 'value_59_3', 'value_59_4', 'value_59_5', 'value_59_6', 'value_59_7', 'value_59_8', 'value_59_9', 'value_59_10', 'value_59_11', 'value_59_12', 'value_61_1', 'value_61_2', 'value_61_3', 'value_61_4', 'value_61_5', 'value_61_6', 'value_61_7', 'value_61_8', 'value_61_9', 'value_61_10', 'value_61_11', 'value_61_12', 'value_62_1', 'value_62_2', 'value_62_3', 'value_62_4', 'value_62_5', 'value_62_6', 'value_62_7', 'value_62_8', 'value_62_9', 'value_62_10', 'value_62_11', 'value_62_12', 'number_of_showers_per_day_taken_using_each_electric_shower_present', 'value_64a_1', 'value_64a_2', 'value_64a_3', 'value_64a_4', 'value_64a_5', 'value_64a_6', 'value_64a_7', 'value_64a_8', 'value_64a_9', 'value_64a_10', 'value_64a_11', 'value_64a_12', 'value_64a', 'value_65_1', 'value_65_2', 'value_65_3', 'value_65_4', 'value_65_5', 'value_65_6', 'value_65_7', 'value_65_8', 'value_65_9', 'value_65_10', 'value_65_11', 'value_65_12', 'value_66_1', 'value_66_2', 'value_66_3', 'value_66_4', 'value_66_5', 'value_66_6', 'value_66_7', 'value_66_8', 'value_66_9', 'value_66_10', 'value_66_11', 'value_66_12', 'annual_base_lighting_requirement_L1', 'G_l_L2a', 'daylighting_correction_factor_L2b', 'fixed_lighting_requirement_L3', 'reference_fixed_lighting_capacity_upper_limit_L4', 'capacity_of_fixed_lighting_provided_L5', 'fixed_lighting_provision_L6', 'top_up_lighting_requirement_L7', 'average_efficacy_of_fixed_lighting_provided_L8', 'energy_required_for_fixed_lighting_L9a', 'energy_required_for_top_up_lighting_L9b', 'energy_required_for_portable_lighting_L9c', 'total_energy_required_for_lighting_L9d', 'lighting_energy_required_in_each_month_L10_1', 'lighting_energy_required_in_each_month_L10_2', 'lighting_energy_required_in_each_month_L10_3', 'lighting_energy_required_in_each_month_L10_4', 'lighting_energy_required_in_each_month_L10_5', 'lighting_energy_required_in_each_month_L10_6', 'lighting_energy_required_in_each_month_L10_7', 'lighting_energy_required_in_each_month_L10_8', 'lighting_energy_required_in_each_month_L10_9', 'lighting_energy_required_in_each_month_L10_10', 'lighting_energy_required_in_each_month_L10_11', 'lighting_energy_required_in_each_month_L10_12', 'lighting_energy_annual_total_as_sum_of_monthly_values_L11', 'lighting_internal_heat_gain_L12_1', 'lighting_internal_heat_gain_L12_2', 'lighting_internal_heat_gain_L12_3', 'lighting_internal_heat_gain_L12_4', 'lighting_internal_heat_gain_L12_5', 'lighting_internal_heat_gain_L12_6', 'lighting_internal_heat_gain_L12_7', 'lighting_internal_heat_gain_L12_8', 'lighting_internal_heat_gain_L12_9', 'lighting_internal_heat_gain_L12_10', 'lighting_internal_heat_gain_L12_11', 'lighting_internal_heat_gain_L12_12', 'value_67_1', 'value_67_2', 'value_67_3', 'value_67_4', 'value_67_5', 'value_67_6', 'value_67_7', 'value_67_8', 'value_67_9', 'value_67_10', 'value_67_11', 'value_67_12', 'appliances_annual_energy_use_L13', 'appliances_energy_use_L14_1', 'appliances_energy_use_L14_2', 'appliances_energy_use_L14_3', 'appliances_energy_use_L14_4', 'appliances_energy_use_L14_5', 'appliances_energy_use_L14_6', 'appliances_energy_use_L14_7', 'appliances_energy_use_L14_8', 'appliances_energy_use_L14_9', 'appliances_energy_use_L14_10', 'appliances_energy_use_L14_11', 'appliances_energy_use_L14_12', 'appliances_annual_total_as_sum_of_monthly_values_L15', 'appliance_internal_heat_gain_1', 'appliance_internal_heat_gain_2', 'appliance_internal_heat_gain_3', 'appliance_internal_heat_gain_4', 'appliance_internal_heat_gain_5', 'appliance_internal_heat_gain_6', 'appliance_internal_heat_gain_7', 'appliance_internal_heat_gain_8', 'appliance_internal_heat_gain_9', 'appliance_internal_heat_gain_10', 'appliance_internal_heat_gain_11', 'appliance_internal_heat_gain_12', 'value_68_1', 'value_68_2', 'value_68_3', 'value_68_4', 'value_68_5', 'value_68_6', 'value_68_7', 'value_68_8', 'value_68_9', 'value_68_10', 'value_68_11', 'value_68_12', 'value_69_1', 'value_69_2', 'value_69_3', 'value_69_4', 'value_69_5', 'value_69_6', 'value_69_7', 'value_69_8', 'value_69_9', 'value_69_10', 'value_69_11', 'value_69_12', 'cooking_electricity_consumption_L20', 'cooking_electricity_consumption_L21_1', 'cooking_electricity_consumption_L21_2', 'cooking_electricity_consumption_L21_3', 'cooking_electricity_consumption_L21_4', 'cooking_electricity_consumption_L21_5', 'cooking_electricity_consumption_L21_6', 'cooking_electricity_consumption_L21_7', 'cooking_electricity_consumption_L21_8', 'cooking_electricity_consumption_L21_9', 'cooking_electricity_consumption_L21_10', 'cooking_electricity_consumption_L21_11', 'cooking_electricity_consumption_L21_12', 'value_70_1', 'value_70_2', 'value_70_3', 'value_70_4', 'value_70_5', 'value_70_6', 'value_70_7', 'value_70_8', 'value_70_9', 'value_70_10', 'value_70_11', 'value_70_12', 'value_71_1', 'value_71_2', 'value_71_3', 'value_71_4', 'value_71_5', 'value_71_6', 'value_71_7', 'value_71_8', 'value_71_9', 'value_71_10', 'value_71_11', 'value_71_12', 'value_72_1', 'value_72_2', 'value_72_3', 'value_72_4', 'value_72_5', 'value_72_6', 'value_72_7', 'value_72_8', 'value_72_9', 'value_72_10', 'value_72_11', 'value_72_12', 'value_73_1', 'value_73_2', 'value_73_3', 'value_73_4', 'value_73_5', 'value_73_6', 'value_73_7', 'value_73_8', 'value_73_9', 'value_73_10', 'value_73_11', 'value_73_12', 'window_0_orientation', 'window_0_winter_solar_access_factor', 'window_0_summer_solar_access_factor', 'window_0_window_area', 'solar_declination_1', 'solar_declination_2', 'solar_declination_3', 'solar_declination_4', 'solar_declination_5', 'solar_declination_6', 'solar_declination_7', 'solar_declination_8', 'solar_declination_9', 'solar_declination_10', 'solar_declination_11', 'solar_declination_12', 'solar_radiation_on_horizontal_plane_1', 'solar_radiation_on_horizontal_plane_2', 'solar_radiation_on_horizontal_plane_3', 'solar_radiation_on_horizontal_plane_4', 'solar_radiation_on_horizontal_plane_5', 'solar_radiation_on_horizontal_plane_6', 'solar_radiation_on_horizontal_plane_7', 'solar_radiation_on_horizontal_plane_8', 'solar_radiation_on_horizontal_plane_9', 'solar_radiation_on_horizontal_plane_10', 'solar_radiation_on_horizontal_plane_11', 'solar_radiation_on_horizontal_plane_12', 'window_0_R_h_inc_1', 'window_0_R_h_inc_2', 'window_0_R_h_inc_3', 'window_0_R_h_inc_4', 'window_0_R_h_inc_5', 'window_0_R_h_inc_6', 'window_0_R_h_inc_7', 'window_0_R_h_inc_8', 'window_0_R_h_inc_9', 'window_0_R_h_inc_10', 'window_0_R_h_inc_11', 'window_0_R_h_inc_12', 'window_0_solar_flux_1', 'window_0_solar_flux_2', 'window_0_solar_flux_3', 'window_0_solar_flux_4', 'window_0_solar_flux_5', 'window_0_solar_flux_6', 'window_0_solar_flux_7', 'window_0_solar_flux_8', 'window_0_solar_flux_9', 'window_0_solar_flux_10', 'window_0_solar_flux_11', 'window_0_solar_flux_12', 'window_0_solar_transmittance', 'window_0_frame_factor', 'window_0_solar_gains_1', 'window_0_solar_gains_2', 'window_0_solar_gains_3', 'window_0_solar_gains_4', 'window_0_solar_gains_5', 'window_0_solar_gains_6', 'window_0_solar_gains_7', 'window_0_solar_gains_8', 'window_0_solar_gains_9', 'window_0_solar_gains_10', 'window_0_solar_gains_11', 'window_0_solar_gains_12', 'value_74_1', 'value_74_2', 'value_74_3', 'value_74_4', 'value_74_5', 'value_74_6', 'value_74_7', 'value_74_8', 'value_74_9', 'value_74_10', 'value_74_11', 'value_74_12', 'value_75_1', 'value_75_2', 'value_75_3', 'value_75_4', 'value_75_5', 'value_75_6', 'value_75_7', 'value_75_8', 'value_75_9', 'value_75_10', 'value_75_11', 'value_75_12', 'value_76_1', 'value_76_2', 'value_76_3', 'value_76_4', 'value_76_5', 'value_76_6', 'value_76_7', 'value_76_8', 'value_76_9', 'value_76_10', 'value_76_11', 'value_76_12', 'value_77_1', 'value_77_2', 'value_77_3', 'value_77_4', 'value_77_5', 'value_77_6', 'value_77_7', 'value_77_8', 'value_77_9', 'value_77_10', 'value_77_11', 'value_77_12', 'value_78_1', 'value_78_2', 'value_78_3', 'value_78_4', 'value_78_5', 'value_78_6', 'value_78_7', 'value_78_8', 'value_78_9', 'value_78_10', 'value_78_11', 'value_78_12', 'value_79_1', 'value_79_2', 'value_79_3', 'value_79_4', 'value_79_5', 'value_79_6', 'value_79_7', 'value_79_8', 'value_79_9', 'value_79_10', 'value_79_11', 'value_79_12', 'value_80_1', 'value_80_2', 'value_80_3', 'value_80_4', 'value_80_5', 'value_80_6', 'value_80_7', 'value_80_8', 'value_80_9', 'value_80_10', 'value_80_11', 'value_80_12', 'value_81_1', 'value_81_2', 'value_81_3', 'value_81_4', 'value_81_5', 'value_81_6', 'value_81_7', 'value_81_8', 'value_81_9', 'value_81_10', 'value_81_11', 'value_81_12', 'value_82_1', 'value_82_2', 'value_82_3', 'value_82_4', 'value_82_5', 'value_82_6', 'value_82_7', 'value_82_8', 'value_82_9', 'value_82_10', 'value_82_11', 'value_82_12', 'value_82a_1', 'value_82a_2', 'value_82a_3', 'value_82a_4', 'value_82a_5', 'value_82a_6', 'value_82a_7', 'value_82a_8', 'value_82a_9', 'value_82a_10', 'value_82a_11', 'value_82a_12', 'value_83_1', 'value_83_2', 'value_83_3', 'value_83_4', 'value_83_5', 'value_83_6', 'value_83_7', 'value_83_8', 'value_83_9', 'value_83_10', 'value_83_11', 'value_83_12', 'value_84_1', 'value_84_2', 'value_84_3', 'value_84_4', 'value_84_5', 'value_84_6', 'value_84_7', 'value_84_8', 'value_84_9', 'value_84_10', 'value_84_11', 'value_84_12', 'pcdb_temperature_reduction_zone_1', 'value_85', 'time_constant_gains_zone_1_1', 'time_constant_gains_zone_1_2', 'time_constant_gains_zone_1_3', 'time_constant_gains_zone_1_4', 'time_constant_gains_zone_1_5', 'time_constant_gains_zone_1_6', 'time_constant_gains_zone_1_7', 'time_constant_gains_zone_1_8', 'time_constant_gains_zone_1_9', 'time_constant_gains_zone_1_10', 'time_constant_gains_zone_1_11', 'time_constant_gains_zone_1_12', 'a_gains_zone_1_1', 'a_gains_zone_1_2', 'a_gains_zone_1_3', 'a_gains_zone_1_4', 'a_gains_zone_1_5', 'a_gains_zone_1_6', 'a_gains_zone_1_7', 'a_gains_zone_1_8', 'a_gains_zone_1_9', 'a_gains_zone_1_10', 'a_gains_zone_1_11', 'a_gains_zone_1_12', 'value_96_1', 'value_96_2', 'value_96_3', 'value_96_4', 'value_96_5', 'value_96_6', 'value_96_7', 'value_96_8', 'value_96_9', 'value_96_10', 'value_96_11', 'value_96_12', 'heat_loss_rate_gains_zone_1_1', 'heat_loss_rate_gains_zone_1_2', 'heat_loss_rate_gains_zone_1_3', 'heat_loss_rate_gains_zone_1_4', 'heat_loss_rate_gains_zone_1_5', 'heat_loss_rate_gains_zone_1_6', 'heat_loss_rate_gains_zone_1_7', 'heat_loss_rate_gains_zone_1_8', 'heat_loss_rate_gains_zone_1_9', 'heat_loss_rate_gains_zone_1_10', 'heat_loss_rate_gains_zone_1_11', 'heat_loss_rate_gains_zone_1_12', 'y_gains_zone_1_1', 'y_gains_zone_1_2', 'y_gains_zone_1_3', 'y_gains_zone_1_4', 'y_gains_zone_1_5', 'y_gains_zone_1_6', 'y_gains_zone_1_7', 'y_gains_zone_1_8', 'y_gains_zone_1_9', 'y_gains_zone_1_10', 'y_gains_zone_1_11', 'y_gains_zone_1_12', 'value_86_1', 'value_86_2', 'value_86_3', 'value_86_4', 'value_86_5', 'value_86_6', 'value_86_7', 'value_86_8', 'value_86_9', 'value_86_10', 'value_86_11', 'value_86_12', 'pcdb_additional_hours_heating_off_zone_1', 'hours_heating_off_period_0_zone_1', 'hours_heating_off_period_1_zone_1', 'main_heating_1_responsiveness', 'main_heating_2_responsiveness', 'value_201', 'value_202', 'value_203', 'value_204', 'value_205', 'weighted_average_responsiveness_of_main_heating_systems', 'tc_off_period_0_zone_1_1', 'tc_off_period_0_zone_1_2', 'tc_off_period_0_zone_1_3', 'tc_off_period_0_zone_1_4', 'tc_off_period_0_zone_1_5', 'tc_off_period_0_zone_1_6', 'tc_off_period_0_zone_1_7', 'tc_off_period_0_zone_1_8', 'tc_off_period_0_zone_1_9', 'tc_off_period_0_zone_1_10', 'tc_off_period_0_zone_1_11', 'tc_off_period_0_zone_1_12', 'tc_off_period_1_zone_1_1', 'tc_off_period_1_zone_1_2', 'tc_off_period_1_zone_1_3', 'tc_off_period_1_zone_1_4', 'tc_off_period_1_zone_1_5', 'tc_off_period_1_zone_1_6', 'tc_off_period_1_zone_1_7', 'tc_off_period_1_zone_1_8', 'tc_off_period_1_zone_1_9', 'tc_off_period_1_zone_1_10', 'tc_off_period_1_zone_1_11', 'tc_off_period_1_zone_1_12', 'Tsc_off_period_0_zone_1_1', 'Tsc_off_period_0_zone_1_2', 'Tsc_off_period_0_zone_1_3', 'Tsc_off_period_0_zone_1_4', 'Tsc_off_period_0_zone_1_5', 'Tsc_off_period_0_zone_1_6', 'Tsc_off_period_0_zone_1_7', 'Tsc_off_period_0_zone_1_8', 'Tsc_off_period_0_zone_1_9', 'Tsc_off_period_0_zone_1_10', 'Tsc_off_period_0_zone_1_11', 'Tsc_off_period_0_zone_1_12', 'Tsc_off_period_1_zone_1_1', 'Tsc_off_period_1_zone_1_2', 'Tsc_off_period_1_zone_1_3', 'Tsc_off_period_1_zone_1_4', 'Tsc_off_period_1_zone_1_5', 'Tsc_off_period_1_zone_1_6', 'Tsc_off_period_1_zone_1_7', 'Tsc_off_period_1_zone_1_8', 'Tsc_off_period_1_zone_1_9', 'Tsc_off_period_1_zone_1_10', 'Tsc_off_period_1_zone_1_11', 'Tsc_off_period_1_zone_1_12', 'temperature_reduction_off_period_0_zone_1_1', 'temperature_reduction_off_period_0_zone_1_2', 'temperature_reduction_off_period_0_zone_1_3', 'temperature_reduction_off_period_0_zone_1_4', 'temperature_reduction_off_period_0_zone_1_5', 'temperature_reduction_off_period_0_zone_1_6', 'temperature_reduction_off_period_0_zone_1_7', 'temperature_reduction_off_period_0_zone_1_8', 'temperature_reduction_off_period_0_zone_1_9', 'temperature_reduction_off_period_0_zone_1_10', 'temperature_reduction_off_period_0_zone_1_11', 'temperature_reduction_off_period_0_zone_1_12', 'temperature_reduction_off_period_1_zone_1_1', 'temperature_reduction_off_period_1_zone_1_2', 'temperature_reduction_off_period_1_zone_1_3', 'temperature_reduction_off_period_1_zone_1_4', 'temperature_reduction_off_period_1_zone_1_5', 'temperature_reduction_off_period_1_zone_1_6', 'temperature_reduction_off_period_1_zone_1_7', 'temperature_reduction_off_period_1_zone_1_8', 'temperature_reduction_off_period_1_zone_1_9', 'temperature_reduction_off_period_1_zone_1_10', 'temperature_reduction_off_period_1_zone_1_11', 'temperature_reduction_off_period_1_zone_1_12', 'value_87_1', 'value_87_2', 'value_87_3', 'value_87_4', 'value_87_5', 'value_87_6', 'value_87_7', 'value_87_8', 'value_87_9', 'value_87_10', 'value_87_11', 'value_87_12', 'heating_control_type_zone_2', 'pcdb_temperature_reduction_zone_2', 'value_88_1', 'value_88_2', 'value_88_3', 'value_88_4', 'value_88_5', 'value_88_6', 'value_88_7', 'value_88_8', 'value_88_9', 'value_88_10', 'value_88_11', 'value_88_12', 'time_constant_gains_zone_2_1', 'time_constant_gains_zone_2_2', 'time_constant_gains_zone_2_3', 'time_constant_gains_zone_2_4', 'time_constant_gains_zone_2_5', 'time_constant_gains_zone_2_6', 'time_constant_gains_zone_2_7', 'time_constant_gains_zone_2_8', 'time_constant_gains_zone_2_9', 'time_constant_gains_zone_2_10', 'time_constant_gains_zone_2_11', 'time_constant_gains_zone_2_12', 'a_gains_zone_2_1', 'a_gains_zone_2_2', 'a_gains_zone_2_3', 'a_gains_zone_2_4', 'a_gains_zone_2_5', 'a_gains_zone_2_6', 'a_gains_zone_2_7', 'a_gains_zone_2_8', 'a_gains_zone_2_9', 'a_gains_zone_2_10', 'a_gains_zone_2_11', 'a_gains_zone_2_12', 'heat_loss_rate_gains_zone_2_1', 'heat_loss_rate_gains_zone_2_2', 'heat_loss_rate_gains_zone_2_3', 'heat_loss_rate_gains_zone_2_4', 'heat_loss_rate_gains_zone_2_5', 'heat_loss_rate_gains_zone_2_6', 'heat_loss_rate_gains_zone_2_7', 'heat_loss_rate_gains_zone_2_8', 'heat_loss_rate_gains_zone_2_9', 'heat_loss_rate_gains_zone_2_10', 'heat_loss_rate_gains_zone_2_11', 'heat_loss_rate_gains_zone_2_12', 'y_gains_zone_2_1', 'y_gains_zone_2_2', 'y_gains_zone_2_3', 'y_gains_zone_2_4', 'y_gains_zone_2_5', 'y_gains_zone_2_6', 'y_gains_zone_2_7', 'y_gains_zone_2_8', 'y_gains_zone_2_9', 'y_gains_zone_2_10', 'y_gains_zone_2_11', 'y_gains_zone_2_12', 'value_89_1', 'value_89_2', 'value_89_3', 'value_89_4', 'value_89_5', 'value_89_6', 'value_89_7', 'value_89_8', 'value_89_9', 'value_89_10', 'value_89_11', 'value_89_12', 'pcdb_additional_hours_heating_off_zone_2', 'hours_heating_off_period_0_zone_2', 'hours_heating_off_period_1_zone_2', 'tc_off_period_0_zone_2_1', 'tc_off_period_0_zone_2_2', 'tc_off_period_0_zone_2_3', 'tc_off_period_0_zone_2_4', 'tc_off_period_0_zone_2_5', 'tc_off_period_0_zone_2_6', 'tc_off_period_0_zone_2_7', 'tc_off_period_0_zone_2_8', 'tc_off_period_0_zone_2_9', 'tc_off_period_0_zone_2_10', 'tc_off_period_0_zone_2_11', 'tc_off_period_0_zone_2_12', 'tc_off_period_1_zone_2_1', 'tc_off_period_1_zone_2_2', 'tc_off_period_1_zone_2_3', 'tc_off_period_1_zone_2_4', 'tc_off_period_1_zone_2_5', 'tc_off_period_1_zone_2_6', 'tc_off_period_1_zone_2_7', 'tc_off_period_1_zone_2_8', 'tc_off_period_1_zone_2_9', 'tc_off_period_1_zone_2_10', 'tc_off_period_1_zone_2_11', 'tc_off_period_1_zone_2_12', 'Tsc_off_period_0_zone_2_1', 'Tsc_off_period_0_zone_2_2', 'Tsc_off_period_0_zone_2_3', 'Tsc_off_period_0_zone_2_4', 'Tsc_off_period_0_zone_2_5', 'Tsc_off_period_0_zone_2_6', 'Tsc_off_period_0_zone_2_7', 'Tsc_off_period_0_zone_2_8', 'Tsc_off_period_0_zone_2_9', 'Tsc_off_period_0_zone_2_10', 'Tsc_off_period_0_zone_2_11', 'Tsc_off_period_0_zone_2_12', 'Tsc_off_period_1_zone_2_1', 'Tsc_off_period_1_zone_2_2', 'Tsc_off_period_1_zone_2_3', 'Tsc_off_period_1_zone_2_4', 'Tsc_off_period_1_zone_2_5', 'Tsc_off_period_1_zone_2_6', 'Tsc_off_period_1_zone_2_7', 'Tsc_off_period_1_zone_2_8', 'Tsc_off_period_1_zone_2_9', 'Tsc_off_period_1_zone_2_10', 'Tsc_off_period_1_zone_2_11', 'Tsc_off_period_1_zone_2_12', 'temperature_reduction_off_period_0_zone_2_1', 'temperature_reduction_off_period_0_zone_2_2', 'temperature_reduction_off_period_0_zone_2_3', 'temperature_reduction_off_period_0_zone_2_4', 'temperature_reduction_off_period_0_zone_2_5', 'temperature_reduction_off_period_0_zone_2_6', 'temperature_reduction_off_period_0_zone_2_7', 'temperature_reduction_off_period_0_zone_2_8', 'temperature_reduction_off_period_0_zone_2_9', 'temperature_reduction_off_period_0_zone_2_10', 'temperature_reduction_off_period_0_zone_2_11', 'temperature_reduction_off_period_0_zone_2_12', 'temperature_reduction_off_period_1_zone_2_1', 'temperature_reduction_off_period_1_zone_2_2', 'temperature_reduction_off_period_1_zone_2_3', 'temperature_reduction_off_period_1_zone_2_4', 'temperature_reduction_off_period_1_zone_2_5', 'temperature_reduction_off_period_1_zone_2_6', 'temperature_reduction_off_period_1_zone_2_7', 'temperature_reduction_off_period_1_zone_2_8', 'temperature_reduction_off_period_1_zone_2_9', 'temperature_reduction_off_period_1_zone_2_10', 'temperature_reduction_off_period_1_zone_2_11', 'temperature_reduction_off_period_1_zone_2_12', 'value_90_1', 'value_90_2', 'value_90_3', 'value_90_4', 'value_90_5', 'value_90_6', 'value_90_7', 'value_90_8', 'value_90_9', 'value_90_10', 'value_90_11', 'value_90_12', 'value_91', 'value_92_1', 'value_92_2', 'value_92_3', 'value_92_4', 'value_92_5', 'value_92_6', 'value_92_7', 'value_92_8', 'value_92_9', 'value_92_10', 'value_92_11', 'value_92_12', 'value_93_1', 'value_93_2', 'value_93_3', 'value_93_4', 'value_93_5', 'value_93_6', 'value_93_7', 'value_93_8', 'value_93_9', 'value_93_10', 'value_93_11', 'value_93_12', 'time_constant_gains_1', 'time_constant_gains_2', 'time_constant_gains_3', 'time_constant_gains_4', 'time_constant_gains_5', 'time_constant_gains_6', 'time_constant_gains_7', 'time_constant_gains_8', 'time_constant_gains_9', 'time_constant_gains_10', 'time_constant_gains_11', 'time_constant_gains_12', 'a_gains_1', 'a_gains_2', 'a_gains_3', 'a_gains_4', 'a_gains_5', 'a_gains_6', 'a_gains_7', 'a_gains_8', 'a_gains_9', 'a_gains_10', 'a_gains_11', 'a_gains_12', 'heat_loss_rate_gains_1', 'heat_loss_rate_gains_2', 'heat_loss_rate_gains_3', 'heat_loss_rate_gains_4', 'heat_loss_rate_gains_5', 'heat_loss_rate_gains_6', 'heat_loss_rate_gains_7', 'heat_loss_rate_gains_8', 'heat_loss_rate_gains_9', 'heat_loss_rate_gains_10', 'heat_loss_rate_gains_11', 'heat_loss_rate_gains_12', 'y_gains_1', 'y_gains_2', 'y_gains_3', 'y_gains_4', 'y_gains_5', 'y_gains_6', 'y_gains_7', 'y_gains_8', 'y_gains_9', 'y_gains_10', 'y_gains_11', 'y_gains_12', 'value_94_1', 'value_94_2', 'value_94_3', 'value_94_4', 'value_94_5', 'value_94_6', 'value_94_7', 'value_94_8', 'value_94_9', 'value_94_10', 'value_94_11', 'value_94_12', 'value_95_1', 'value_95_2', 'value_95_3', 'value_95_4', 'value_95_5', 'value_95_6', 'value_95_7', 'value_95_8', 'value_95_9', 'value_95_10', 'value_95_11', 'value_95_12', 'value_97_1', 'value_97_2', 'value_97_3', 'value_97_4', 'value_97_5', 'value_97_6', 'value_97_7', 'value_97_8', 'value_97_9', 'value_97_10', 'value_97_11', 'value_97_12', 'value_98a_1', 'value_98a_2', 'value_98a_3', 'value_98a_4', 'value_98a_5', 'value_98a_10', 'value_98a_11', 'value_98a_12', 'value_98a', 'value_98b_1', 'value_98b_2', 'value_98b_3', 'value_98b_4', 'value_98b_5', 'value_98b_10', 'value_98b_11', 'value_98b_12', 'value_98b', 'value_98c_1', 'value_98c_2', 'value_98c_3', 'value_98c_4', 'value_98c_5', 'value_98c_10', 'value_98c_11', 'value_98c_12', 'value_98c', 'value_99', 'instantaneous_wwhrs_1_total_volume_of_warm_water_draining_into_it_1', 'instantaneous_wwhrs_1_total_volume_of_warm_water_draining_into_it_2', 'instantaneous_wwhrs_1_total_volume_of_warm_water_draining_into_it_3', 'instantaneous_wwhrs_1_total_volume_of_warm_water_draining_into_it_4', 'instantaneous_wwhrs_1_total_volume_of_warm_water_draining_into_it_5', 'instantaneous_wwhrs_1_total_volume_of_warm_water_draining_into_it_6', 'instantaneous_wwhrs_1_total_volume_of_warm_water_draining_into_it_7', 'instantaneous_wwhrs_1_total_volume_of_warm_water_draining_into_it_8', 'instantaneous_wwhrs_1_total_volume_of_warm_water_draining_into_it_9', 'instantaneous_wwhrs_1_total_volume_of_warm_water_draining_into_it_10', 'instantaneous_wwhrs_1_total_volume_of_warm_water_draining_into_it_11', 'instantaneous_wwhrs_1_total_volume_of_warm_water_draining_into_it_12', 'instantaneous_wwhrs_1_heat_content_of_warm_water_draining_into_it_1', 'instantaneous_wwhrs_1_heat_content_of_warm_water_draining_into_it_2', 'instantaneous_wwhrs_1_heat_content_of_warm_water_draining_into_it_3', 'instantaneous_wwhrs_1_heat_content_of_warm_water_draining_into_it_4', 'instantaneous_wwhrs_1_heat_content_of_warm_water_draining_into_it_5', 'instantaneous_wwhrs_1_heat_content_of_warm_water_draining_into_it_6', 'instantaneous_wwhrs_1_heat_content_of_warm_water_draining_into_it_7', 'instantaneous_wwhrs_1_heat_content_of_warm_water_draining_into_it_8', 'instantaneous_wwhrs_1_heat_content_of_warm_water_draining_into_it_9', 'instantaneous_wwhrs_1_heat_content_of_warm_water_draining_into_it_10', 'instantaneous_wwhrs_1_heat_content_of_warm_water_draining_into_it_11', 'instantaneous_wwhrs_1_heat_content_of_warm_water_draining_into_it_12', 'instantaneous_wwhrs_1_average_shower_flow_rate', 'instantaneous_wwhrs_1_efficiency', 'instantaneous_wwhrs_1_utilisation_factor', 'instantaneous_wwhrs_1_heat_recovered_1', 'instantaneous_wwhrs_1_heat_recovered_2', 'instantaneous_wwhrs_1_heat_recovered_3', 'instantaneous_wwhrs_1_heat_recovered_4', 'instantaneous_wwhrs_1_heat_recovered_5', 'instantaneous_wwhrs_1_heat_recovered_6', 'instantaneous_wwhrs_1_heat_recovered_7', 'instantaneous_wwhrs_1_heat_recovered_8', 'instantaneous_wwhrs_1_heat_recovered_9', 'instantaneous_wwhrs_1_heat_recovered_10', 'instantaneous_wwhrs_1_heat_recovered_11', 'instantaneous_wwhrs_1_heat_recovered_12', 'instantaneous_wwhrs_2_total_volume_of_warm_water_draining_into_it_1', 'instantaneous_wwhrs_2_total_volume_of_warm_water_draining_into_it_2', 'instantaneous_wwhrs_2_total_volume_of_warm_water_draining_into_it_3', 'instantaneous_wwhrs_2_total_volume_of_warm_water_draining_into_it_4', 'instantaneous_wwhrs_2_total_volume_of_warm_water_draining_into_it_5', 'instantaneous_wwhrs_2_total_volume_of_warm_water_draining_into_it_6', 'instantaneous_wwhrs_2_total_volume_of_warm_water_draining_into_it_7', 'instantaneous_wwhrs_2_total_volume_of_warm_water_draining_into_it_8', 'instantaneous_wwhrs_2_total_volume_of_warm_water_draining_into_it_9', 'instantaneous_wwhrs_2_total_volume_of_warm_water_draining_into_it_10', 'instantaneous_wwhrs_2_total_volume_of_warm_water_draining_into_it_11', 'instantaneous_wwhrs_2_total_volume_of_warm_water_draining_into_it_12', 'instantaneous_wwhrs_2_heat_content_of_warm_water_draining_into_it_1', 'instantaneous_wwhrs_2_heat_content_of_warm_water_draining_into_it_2', 'instantaneous_wwhrs_2_heat_content_of_warm_water_draining_into_it_3', 'instantaneous_wwhrs_2_heat_content_of_warm_water_draining_into_it_4', 'instantaneous_wwhrs_2_heat_content_of_warm_water_draining_into_it_5', 'instantaneous_wwhrs_2_heat_content_of_warm_water_draining_into_it_6', 'instantaneous_wwhrs_2_heat_content_of_warm_water_draining_into_it_7', 'instantaneous_wwhrs_2_heat_content_of_warm_water_draining_into_it_8', 'instantaneous_wwhrs_2_heat_content_of_warm_water_draining_into_it_9', 'instantaneous_wwhrs_2_heat_content_of_warm_water_draining_into_it_10', 'instantaneous_wwhrs_2_heat_content_of_warm_water_draining_into_it_11', 'instantaneous_wwhrs_2_heat_content_of_warm_water_draining_into_it_12', 'instantaneous_wwhrs_2_average_shower_flow_rate', 'instantaneous_wwhrs_2_efficiency', 'instantaneous_wwhrs_2_utilisation_factor', 'instantaneous_wwhrs_2_heat_recovered_1', 'instantaneous_wwhrs_2_heat_recovered_2', 'instantaneous_wwhrs_2_heat_recovered_3', 'instantaneous_wwhrs_2_heat_recovered_4', 'instantaneous_wwhrs_2_heat_recovered_5', 'instantaneous_wwhrs_2_heat_recovered_6', 'instantaneous_wwhrs_2_heat_recovered_7', 'instantaneous_wwhrs_2_heat_recovered_8', 'instantaneous_wwhrs_2_heat_recovered_9', 'instantaneous_wwhrs_2_heat_recovered_10', 'instantaneous_wwhrs_2_heat_recovered_11', 'instantaneous_wwhrs_2_heat_recovered_12', 'storage_wwhrs_volume_of_warm_water_from_instantaneous_electric_showers_draining_into_it_1', 'storage_wwhrs_volume_of_warm_water_from_instantaneous_electric_showers_draining_into_it_2', 'storage_wwhrs_volume_of_warm_water_from_instantaneous_electric_showers_draining_into_it_3', 'storage_wwhrs_volume_of_warm_water_from_instantaneous_electric_showers_draining_into_it_4', 'storage_wwhrs_volume_of_warm_water_from_instantaneous_electric_showers_draining_into_it_5', 'storage_wwhrs_volume_of_warm_water_from_instantaneous_electric_showers_draining_into_it_6', 'storage_wwhrs_volume_of_warm_water_from_instantaneous_electric_showers_draining_into_it_7', 'storage_wwhrs_volume_of_warm_water_from_instantaneous_electric_showers_draining_into_it_8', 'storage_wwhrs_volume_of_warm_water_from_instantaneous_electric_showers_draining_into_it_9', 'storage_wwhrs_volume_of_warm_water_from_instantaneous_electric_showers_draining_into_it_10', 'storage_wwhrs_volume_of_warm_water_from_instantaneous_electric_showers_draining_into_it_11', 'storage_wwhrs_volume_of_warm_water_from_instantaneous_electric_showers_draining_into_it_12', 'storage_wwhrs_volume_of_warm_water_from_other_showers_draining_into_it_1', 'storage_wwhrs_volume_of_warm_water_from_other_showers_draining_into_it_2', 'storage_wwhrs_volume_of_warm_water_from_other_showers_draining_into_it_3', 'storage_wwhrs_volume_of_warm_water_from_other_showers_draining_into_it_4', 'storage_wwhrs_volume_of_warm_water_from_other_showers_draining_into_it_5', 'storage_wwhrs_volume_of_warm_water_from_other_showers_draining_into_it_6', 'storage_wwhrs_volume_of_warm_water_from_other_showers_draining_into_it_7', 'storage_wwhrs_volume_of_warm_water_from_other_showers_draining_into_it_8', 'storage_wwhrs_volume_of_warm_water_from_other_showers_draining_into_it_9', 'storage_wwhrs_volume_of_warm_water_from_other_showers_draining_into_it_10', 'storage_wwhrs_volume_of_warm_water_from_other_showers_draining_into_it_11', 'storage_wwhrs_volume_of_warm_water_from_other_showers_draining_into_it_12', 'storage_wwhrs_volume_of_warm_water_from_baths_draining_into_it_1', 'storage_wwhrs_volume_of_warm_water_from_baths_draining_into_it_2', 'storage_wwhrs_volume_of_warm_water_from_baths_draining_into_it_3', 'storage_wwhrs_volume_of_warm_water_from_baths_draining_into_it_4', 'storage_wwhrs_volume_of_warm_water_from_baths_draining_into_it_5', 'storage_wwhrs_volume_of_warm_water_from_baths_draining_into_it_6', 'storage_wwhrs_volume_of_warm_water_from_baths_draining_into_it_7', 'storage_wwhrs_volume_of_warm_water_from_baths_draining_into_it_8', 'storage_wwhrs_volume_of_warm_water_from_baths_draining_into_it_9', 'storage_wwhrs_volume_of_warm_water_from_baths_draining_into_it_10', 'storage_wwhrs_volume_of_warm_water_from_baths_draining_into_it_11', 'storage_wwhrs_volume_of_warm_water_from_baths_draining_into_it_12', 'storage_wwhrs_heat_content_of_all_shower_water_draining_into_it_1', 'storage_wwhrs_heat_content_of_all_shower_water_draining_into_it_2', 'storage_wwhrs_heat_content_of_all_shower_water_draining_into_it_3', 'storage_wwhrs_heat_content_of_all_shower_water_draining_into_it_4', 'storage_wwhrs_heat_content_of_all_shower_water_draining_into_it_5', 'storage_wwhrs_heat_content_of_all_shower_water_draining_into_it_6', 'storage_wwhrs_heat_content_of_all_shower_water_draining_into_it_7', 'storage_wwhrs_heat_content_of_all_shower_water_draining_into_it_8', 'storage_wwhrs_heat_content_of_all_shower_water_draining_into_it_9', 'storage_wwhrs_heat_content_of_all_shower_water_draining_into_it_10', 'storage_wwhrs_heat_content_of_all_shower_water_draining_into_it_11', 'storage_wwhrs_heat_content_of_all_shower_water_draining_into_it_12', 'storage_wwhrs_heat_content_of_bath_water_draining_into_it_1', 'storage_wwhrs_heat_content_of_bath_water_draining_into_it_2', 'storage_wwhrs_heat_content_of_bath_water_draining_into_it_3', 'storage_wwhrs_heat_content_of_bath_water_draining_into_it_4', 'storage_wwhrs_heat_content_of_bath_water_draining_into_it_5', 'storage_wwhrs_heat_content_of_bath_water_draining_into_it_6', 'storage_wwhrs_heat_content_of_bath_water_draining_into_it_7', 'storage_wwhrs_heat_content_of_bath_water_draining_into_it_8', 'storage_wwhrs_heat_content_of_bath_water_draining_into_it_9', 'storage_wwhrs_heat_content_of_bath_water_draining_into_it_10', 'storage_wwhrs_heat_content_of_bath_water_draining_into_it_11', 'storage_wwhrs_heat_content_of_bath_water_draining_into_it_12', 'storage_wwhrs_total_amount_of_heat_available_1', 'storage_wwhrs_total_amount_of_heat_available_2', 'storage_wwhrs_total_amount_of_heat_available_3', 'storage_wwhrs_total_amount_of_heat_available_4', 'storage_wwhrs_total_amount_of_heat_available_5', 'storage_wwhrs_total_amount_of_heat_available_6', 'storage_wwhrs_total_amount_of_heat_available_7', 'storage_wwhrs_total_amount_of_heat_available_8', 'storage_wwhrs_total_amount_of_heat_available_9', 'storage_wwhrs_total_amount_of_heat_available_10', 'storage_wwhrs_total_amount_of_heat_available_11', 'storage_wwhrs_total_amount_of_heat_available_12', 'storage_wwhrs_average_shower_flow_rate', 'storage_wwhrs_efficiency', 'storage_wwhrs_utilisation_factor', 'storage_wwhrs_heat_recovered_1', 'storage_wwhrs_heat_recovered_2', 'storage_wwhrs_heat_recovered_3', 'storage_wwhrs_heat_recovered_4', 'storage_wwhrs_heat_recovered_5', 'storage_wwhrs_heat_recovered_6', 'storage_wwhrs_heat_recovered_7', 'storage_wwhrs_heat_recovered_8', 'storage_wwhrs_heat_recovered_9', 'storage_wwhrs_heat_recovered_10', 'storage_wwhrs_heat_recovered_11', 'storage_wwhrs_heat_recovered_12', 'V_ww', 'storage_wwhrs_heat_recovered_adjusted_1', 'storage_wwhrs_heat_recovered_adjusted_2', 'storage_wwhrs_heat_recovered_adjusted_3', 'storage_wwhrs_heat_recovered_adjusted_4', 'storage_wwhrs_heat_recovered_adjusted_5', 'storage_wwhrs_heat_recovered_adjusted_6', 'storage_wwhrs_heat_recovered_adjusted_7', 'storage_wwhrs_heat_recovered_adjusted_8', 'storage_wwhrs_heat_recovered_adjusted_9', 'storage_wwhrs_heat_recovered_adjusted_10', 'storage_wwhrs_heat_recovered_adjusted_11', 'storage_wwhrs_heat_recovered_adjusted_12', 'value_63a_1', 'value_63a_2', 'value_63a_3', 'value_63a_4', 'value_63a_5', 'value_63a_6', 'value_63a_7', 'value_63a_8', 'value_63a_9', 'value_63a_10', 'value_63a_11', 'value_63a_12', 'value_63b_1', 'value_63b_2', 'value_63b_3', 'value_63b_4', 'value_63b_5', 'value_63b_6', 'value_63b_7', 'value_63b_8', 'value_63b_9', 'value_63b_10', 'value_63b_11', 'value_63b_12', 'value_H1', 'value_H2', 'value_H3', 'value_H4', 'value_H5', 'value_H6', 'solar_heating_R_h_inc_1', 'solar_heating_R_h_inc_2', 'solar_heating_R_h_inc_3', 'solar_heating_R_h_inc_4', 'solar_heating_R_h_inc_5', 'solar_heating_R_h_inc_6', 'solar_heating_R_h_inc_7', 'solar_heating_R_h_inc_8', 'solar_heating_R_h_inc_9', 'solar_heating_R_h_inc_10', 'solar_heating_R_h_inc_11', 'solar_heating_R_h_inc_12', 'solar_heating_solar_flux_1', 'solar_heating_solar_flux_2', 'solar_heating_solar_flux_3', 'solar_heating_solar_flux_4', 'solar_heating_solar_flux_5', 'solar_heating_solar_flux_6', 'solar_heating_solar_flux_7', 'solar_heating_solar_flux_8', 'solar_heating_solar_flux_9', 'solar_heating_solar_flux_10', 'solar_heating_solar_flux_11', 'solar_heating_solar_flux_12', 'value_H7_1', 'value_H7_2', 'value_H7_3', 'value_H7_4', 'value_H7_5', 'value_H7_6', 'value_H7_7', 'value_H7_8', 'value_H7_9', 'value_H7_10', 'value_H7_11', 'value_H7_12', 'value_H8', 'value_H9_1', 'value_H9_2', 'value_H9_3', 'value_H9_4', 'value_H9_5', 'value_H9_6', 'value_H9_7', 'value_H9_8', 'value_H9_9', 'value_H9_10', 'value_H9_11', 'value_H9_12', 'value_H10', 'value_H11', 'value_H12', 'value_H13', 'value_H14', 'value_H15', 'value_H16', 'value_H17_1', 'value_H17_2', 'value_H17_3', 'value_H17_4', 'value_H17_5', 'value_H17_6', 'value_H17_7', 'value_H17_8', 'value_H17_9', 'value_H17_10', 'value_H17_11', 'value_H17_12', 'value_H18_1', 'value_H18_2', 'value_H18_3', 'value_H18_4', 'value_H18_5', 'value_H18_6', 'value_H18_7', 'value_H18_8', 'value_H18_9', 'value_H18_10', 'value_H18_11', 'value_H18_12', 'value_H19_1', 'value_H19_2', 'value_H19_3', 'value_H19_4', 'value_H19_5', 'value_H19_6', 'value_H19_7', 'value_H19_8', 'value_H19_9', 'value_H19_10', 'value_H19_11', 'value_H19_12', 'value_H20_1', 'value_H20_2', 'value_H20_3', 'value_H20_4', 'value_H20_5', 'value_H20_6', 'value_H20_7', 'value_H20_8', 'value_H20_9', 'value_H20_10', 'value_H20_11', 'value_H20_12', 'value_H21_1', 'value_H21_2', 'value_H21_3', 'value_H21_4', 'value_H21_5', 'value_H21_6', 'value_H21_7', 'value_H21_8', 'value_H21_9', 'value_H21_10', 'value_H21_11', 'value_H21_12', 'value_H22_1', 'value_H22_2', 'value_H22_3', 'value_H22_4', 'value_H22_5', 'value_H22_6', 'value_H22_7', 'value_H22_8', 'value_H22_9', 'value_H22_10', 'value_H22_11', 'value_H22_12', 'value_H23_1', 'value_H23_2', 'value_H23_3', 'value_H23_4', 'value_H23_5', 'value_H23_6', 'value_H23_7', 'value_H23_8', 'value_H23_9', 'value_H23_10', 'value_H23_11', 'value_H23_12', 'value_H24_1', 'value_H24_2', 'value_H24_3', 'value_H24_4', 'value_H24_5', 'value_H24_6', 'value_H24_7', 'value_H24_8', 'value_H24_9', 'value_H24_10', 'value_H24_11', 'value_H24_12', 'value_H24', 'main_heating_flow_temperature', 'value_H25_1', 'value_H25_2', 'value_H25_3', 'value_H25_4', 'value_H25_5', 'value_H25_6', 'value_H25_7', 'value_H25_8', 'value_H25_9', 'value_H25_10', 'value_H25_11', 'value_H25_12', 'value_H26_1', 'value_H26_2', 'value_H26_3', 'value_H26_4', 'value_H26_5', 'value_H26_6', 'value_H26_7', 'value_H26_8', 'value_H26_9', 'value_H26_10', 'value_H26_11', 'value_H26_12', 'value_H27_1', 'value_H27_2', 'value_H27_3', 'value_H27_4', 'value_H27_5', 'value_H27_6', 'value_H27_7', 'value_H27_8', 'value_H27_9', 'value_H27_10', 'value_H27_11', 'value_H27_12', 'value_H28_1', 'value_H28_2', 'value_H28_3', 'value_H28_4', 'value_H28_5', 'value_H28_6', 'value_H28_7', 'value_H28_8', 'value_H28_9', 'value_H28_10', 'value_H28_11', 'value_H28_12', 'value_H29_1', 'value_H29_2', 'value_H29_3', 'value_H29_4', 'value_H29_5', 'value_H29_6', 'value_H29_7', 'value_H29_8', 'value_H29_9', 'value_H29_10', 'value_H29_11', 'value_H29_12', 'value_H29', 'value_63c_1', 'value_63c_2', 'value_63c_3', 'value_63c_4', 'value_63c_5', 'value_63c_6', 'value_63c_7', 'value_63c_8', 'value_63c_9', 'value_63c_10', 'value_63c_11', 'value_63c_12', 'proportion_of_hot_water_energy_met_by_boiler', 'V_k', 'coincidence_of_hot_water_draw_off_and_boiler_firing_Kn_G7', 'energy_content_of_water_heated_by_boiler_1', 'energy_content_of_water_heated_by_boiler_2', 'energy_content_of_water_heated_by_boiler_3', 'energy_content_of_water_heated_by_boiler_4', 'energy_content_of_water_heated_by_boiler_5', 'energy_content_of_water_heated_by_boiler_6', 'energy_content_of_water_heated_by_boiler_7', 'energy_content_of_water_heated_by_boiler_8', 'energy_content_of_water_heated_by_boiler_9', 'energy_content_of_water_heated_by_boiler_10', 'energy_content_of_water_heated_by_boiler_11', 'energy_content_of_water_heated_by_boiler_12', 'fghrs_no_heat_store_saving_G1_1', 'fghrs_no_heat_store_saving_G1_2', 'fghrs_no_heat_store_saving_G1_3', 'fghrs_no_heat_store_saving_G1_4', 'fghrs_no_heat_store_saving_G1_5', 'fghrs_no_heat_store_saving_G1_6', 'fghrs_no_heat_store_saving_G1_7', 'fghrs_no_heat_store_saving_G1_8', 'fghrs_no_heat_store_saving_G1_9', 'fghrs_no_heat_store_saving_G1_10', 'fghrs_no_heat_store_saving_G1_11', 'fghrs_no_heat_store_saving_G1_12', 'Q_sp_1', 'Q_sp_2', 'Q_sp_3', 'Q_sp_4', 'Q_sp_5', 'Q_sp_6', 'Q_sp_7', 'Q_sp_8', 'Q_sp_9', 'Q_sp_10', 'Q_sp_11', 'Q_sp_12', 'main_heating_fghrs_space_heating_requirement_from_boiler_system_upper_letter_1', 'main_heating_fghrs_space_heating_requirement_from_boiler_system_upper_letter_2', 'main_heating_fghrs_space_heating_requirement_from_boiler_system_upper_letter_3', 'main_heating_fghrs_space_heating_requirement_from_boiler_system_upper_letter_4', 'main_heating_fghrs_space_heating_requirement_from_boiler_system_upper_letter_5', 'main_heating_fghrs_space_heating_requirement_from_boiler_system_upper_letter_6', 'main_heating_fghrs_space_heating_requirement_from_boiler_system_upper_letter_7', 'main_heating_fghrs_space_heating_requirement_from_boiler_system_upper_letter_8', 'main_heating_fghrs_space_heating_requirement_from_boiler_system_upper_letter_9', 'main_heating_fghrs_space_heating_requirement_from_boiler_system_upper_letter_10', 'main_heating_fghrs_space_heating_requirement_from_boiler_system_upper_letter_11', 'main_heating_fghrs_space_heating_requirement_from_boiler_system_upper_letter_12', 'main_heating_fghrs_space_heating_requirement_from_boiler_system_lower_letter_1', 'main_heating_fghrs_space_heating_requirement_from_boiler_system_lower_letter_2', 'main_heating_fghrs_space_heating_requirement_from_boiler_system_lower_letter_3', 'main_heating_fghrs_space_heating_requirement_from_boiler_system_lower_letter_4', 'main_heating_fghrs_space_heating_requirement_from_boiler_system_lower_letter_5', 'main_heating_fghrs_space_heating_requirement_from_boiler_system_lower_letter_6', 'main_heating_fghrs_space_heating_requirement_from_boiler_system_lower_letter_7', 'main_heating_fghrs_space_heating_requirement_from_boiler_system_lower_letter_8', 'main_heating_fghrs_space_heating_requirement_from_boiler_system_lower_letter_9', 'main_heating_fghrs_space_heating_requirement_from_boiler_system_lower_letter_10', 'main_heating_fghrs_space_heating_requirement_from_boiler_system_lower_letter_11', 'main_heating_fghrs_space_heating_requirement_from_boiler_system_lower_letter_12', 'main_heating_fghrs_space_heating_requirement_from_boiler_system_upper_1', 'main_heating_fghrs_space_heating_requirement_from_boiler_system_upper_2', 'main_heating_fghrs_space_heating_requirement_from_boiler_system_upper_3', 'main_heating_fghrs_space_heating_requirement_from_boiler_system_upper_4', 'main_heating_fghrs_space_heating_requirement_from_boiler_system_upper_5', 'main_heating_fghrs_space_heating_requirement_from_boiler_system_upper_6', 'main_heating_fghrs_space_heating_requirement_from_boiler_system_upper_7', 'main_heating_fghrs_space_heating_requirement_from_boiler_system_upper_8', 'main_heating_fghrs_space_heating_requirement_from_boiler_system_upper_9', 'main_heating_fghrs_space_heating_requirement_from_boiler_system_upper_10', 'main_heating_fghrs_space_heating_requirement_from_boiler_system_upper_11', 'main_heating_fghrs_space_heating_requirement_from_boiler_system_upper_12', 'main_heating_fghrs_space_heating_requirement_from_boiler_system_lower_1', 'main_heating_fghrs_space_heating_requirement_from_boiler_system_lower_2', 'main_heating_fghrs_space_heating_requirement_from_boiler_system_lower_3', 'main_heating_fghrs_space_heating_requirement_from_boiler_system_lower_4', 'main_heating_fghrs_space_heating_requirement_from_boiler_system_lower_5', 'main_heating_fghrs_space_heating_requirement_from_boiler_system_lower_6', 'main_heating_fghrs_space_heating_requirement_from_boiler_system_lower_7', 'main_heating_fghrs_space_heating_requirement_from_boiler_system_lower_8', 'main_heating_fghrs_space_heating_requirement_from_boiler_system_lower_9', 'main_heating_fghrs_space_heating_requirement_from_boiler_system_lower_10', 'main_heating_fghrs_space_heating_requirement_from_boiler_system_lower_11', 'main_heating_fghrs_space_heating_requirement_from_boiler_system_lower_12', 'main_heating_fghrs_coefficient_a_upper_1', 'main_heating_fghrs_coefficient_a_upper_2', 'main_heating_fghrs_coefficient_a_upper_3', 'main_heating_fghrs_coefficient_a_upper_4', 'main_heating_fghrs_coefficient_a_upper_5', 'main_heating_fghrs_coefficient_a_upper_6', 'main_heating_fghrs_coefficient_a_upper_7', 'main_heating_fghrs_coefficient_a_upper_8', 'main_heating_fghrs_coefficient_a_upper_9', 'main_heating_fghrs_coefficient_a_upper_10', 'main_heating_fghrs_coefficient_a_upper_11', 'main_heating_fghrs_coefficient_a_upper_12', 'main_heating_fghrs_coefficient_a_lower_1', 'main_heating_fghrs_coefficient_a_lower_2', 'main_heating_fghrs_coefficient_a_lower_3', 'main_heating_fghrs_coefficient_a_lower_4', 'main_heating_fghrs_coefficient_a_lower_5', 'main_heating_fghrs_coefficient_a_lower_6', 'main_heating_fghrs_coefficient_a_lower_7', 'main_heating_fghrs_coefficient_a_lower_8', 'main_heating_fghrs_coefficient_a_lower_9', 'main_heating_fghrs_coefficient_a_lower_10', 'main_heating_fghrs_coefficient_a_lower_11', 'main_heating_fghrs_coefficient_a_lower_12', 'main_heating_fghrs_coefficient_b_upper_1', 'main_heating_fghrs_coefficient_b_upper_2', 'main_heating_fghrs_coefficient_b_upper_3', 'main_heating_fghrs_coefficient_b_upper_4', 'main_heating_fghrs_coefficient_b_upper_5', 'main_heating_fghrs_coefficient_b_upper_6', 'main_heating_fghrs_coefficient_b_upper_7', 'main_heating_fghrs_coefficient_b_upper_8', 'main_heating_fghrs_coefficient_b_upper_9', 'main_heating_fghrs_coefficient_b_upper_10', 'main_heating_fghrs_coefficient_b_upper_11', 'main_heating_fghrs_coefficient_b_upper_12', 'main_heating_fghrs_coefficient_b_lower_1', 'main_heating_fghrs_coefficient_b_lower_2', 'main_heating_fghrs_coefficient_b_lower_3', 'main_heating_fghrs_coefficient_b_lower_4', 'main_heating_fghrs_coefficient_b_lower_5', 'main_heating_fghrs_coefficient_b_lower_6', 'main_heating_fghrs_coefficient_b_lower_7', 'main_heating_fghrs_coefficient_b_lower_8', 'main_heating_fghrs_coefficient_b_lower_9', 'main_heating_fghrs_coefficient_b_lower_10', 'main_heating_fghrs_coefficient_b_lower_11', 'main_heating_fghrs_coefficient_b_lower_12', 'main_heating_fghrs_coefficient_c_upper_1', 'main_heating_fghrs_coefficient_c_upper_2', 'main_heating_fghrs_coefficient_c_upper_3', 'main_heating_fghrs_coefficient_c_upper_4', 'main_heating_fghrs_coefficient_c_upper_5', 'main_heating_fghrs_coefficient_c_upper_6', 'main_heating_fghrs_coefficient_c_upper_7', 'main_heating_fghrs_coefficient_c_upper_8', 'main_heating_fghrs_coefficient_c_upper_9', 'main_heating_fghrs_coefficient_c_upper_10', 'main_heating_fghrs_coefficient_c_upper_11', 'main_heating_fghrs_coefficient_c_upper_12', 'main_heating_fghrs_coefficient_c_lower_1', 'main_heating_fghrs_coefficient_c_lower_2', 'main_heating_fghrs_coefficient_c_lower_3', 'main_heating_fghrs_coefficient_c_lower_4', 'main_heating_fghrs_coefficient_c_lower_5', 'main_heating_fghrs_coefficient_c_lower_6', 'main_heating_fghrs_coefficient_c_lower_7', 'main_heating_fghrs_coefficient_c_lower_8', 'main_heating_fghrs_coefficient_c_lower_9', 'main_heating_fghrs_coefficient_c_lower_10', 'main_heating_fghrs_coefficient_c_lower_11', 'main_heating_fghrs_coefficient_c_lower_12', 'GF', 'K_f', 'S_0_upper_1', 'S_0_upper_2', 'S_0_upper_3', 'S_0_upper_4', 'S_0_upper_5', 'S_0_upper_6', 'S_0_upper_7', 'S_0_upper_8', 'S_0_upper_9', 'S_0_upper_10', 'S_0_upper_11', 'S_0_upper_12', 'S_0_lower_1', 'S_0_lower_2', 'S_0_lower_3', 'S_0_lower_4', 'S_0_lower_5', 'S_0_lower_6', 'S_0_lower_7', 'S_0_lower_8', 'S_0_lower_9', 'S_0_lower_10', 'S_0_lower_11', 'S_0_lower_12', 'S_0_1', 'S_0_2', 'S_0_3', 'S_0_4', 'S_0_5', 'S_0_6', 'S_0_7', 'S_0_8', 'S_0_9', 'S_0_10', 'S_0_11', 'S_0_12', 'S_1', 'S_2', 'S_3', 'S_4', 'S_5', 'S_6', 'S_7', 'S_8', 'S_9', 'S_10', 'S_11', 'S_12', 'value_63d_1', 'value_63d_2', 'value_63d_3', 'value_63d_4', 'value_63d_5', 'value_63d_6', 'value_63d_7', 'value_63d_8', 'value_63d_9', 'value_63d_10', 'value_63d_11', 'value_63d_12', 'value_64_1', 'value_64_2', 'value_64_3', 'value_64_4', 'value_64_5', 'value_64_6', 'value_64_7', 'value_64_8', 'value_64_9', 'value_64_10', 'value_64_11', 'value_64_12', 'winter_efficiency_main_space_heating_system_1', 'efficiency_adjustment_main_space_heating_system_1', 'value_206', 'efficiency_adjustment_main_space_heating_system_2', 'value_207', 'value_208', 'value_209', 'value_211_1', 'value_211_2', 'value_211_3', 'value_211_4', 'value_211_5', 'value_211_10', 'value_211_11', 'value_211_12', 'value_211', 'value_213_1', 'value_213_2', 'value_213_3', 'value_213_4', 'value_213_5', 'value_213_10', 'value_213_11', 'value_213_12', 'value_213', 'value_215_1', 'value_215_2', 'value_215_3', 'value_215_4', 'value_215_5', 'value_215_10', 'value_215_11', 'value_215_12', 'value_215', 'efficiency_water_heater_1', 'efficiency_water_heater_2', 'efficiency_water_heater_3', 'efficiency_water_heater_4', 'efficiency_water_heater_5', 'efficiency_water_heater_6', 'efficiency_water_heater_7', 'efficiency_water_heater_8', 'efficiency_water_heater_9', 'efficiency_water_heater_10', 'efficiency_water_heater_11', 'efficiency_water_heater_12', 'efficiency_adjustment_water_heater', 'value_217_1', 'value_217_2', 'value_217_3', 'value_217_4', 'value_217_5', 'value_217_6', 'value_217_7', 'value_217_8', 'value_217_9', 'value_217_10', 'value_217_11', 'value_217_12', 'value_219_1', 'value_219_2', 'value_219_3', 'value_219_4', 'value_219_5', 'value_219_6', 'value_219_7', 'value_219_8', 'value_219_9', 'value_219_10', 'value_219_11', 'value_219_12', 'value_219', 'value_221_6', 'value_221_7', 'value_221_8', 'value_221_9', 'value_221', 'value_230a', 'value_230b', 'value_230c', 'value_230d', 'value_230e', 'value_230f', 'value_230g', 'value_230h', 'value_231', 'value_231_1', 'value_231_2', 'value_231_3', 'value_231_4', 'value_231_5', 'value_231_6', 'value_231_7', 'value_231_8', 'value_231_9', 'value_231_10', 'value_231_11', 'value_231_12', 'value_232', 'E_PV', 'E_PV_1', 'E_PV_2', 'E_PV_3', 'E_PV_4', 'E_PV_5', 'E_PV_6', 'E_PV_7', 'E_PV_8', 'E_PV_9', 'E_PV_10', 'E_PV_11', 'E_PV_12', 'value_240a', 'value_241a', 'value_242a', 'value_243', 'applicable_space_heating_electricity_consumption_to_which_pv_can_contribute_1', 'applicable_space_heating_electricity_consumption_to_which_pv_can_contribute_2', 'applicable_space_heating_electricity_consumption_to_which_pv_can_contribute_3', 'applicable_space_heating_electricity_consumption_to_which_pv_can_contribute_4', 'applicable_space_heating_electricity_consumption_to_which_pv_can_contribute_5', 'applicable_space_heating_electricity_consumption_to_which_pv_can_contribute_6', 'applicable_space_heating_electricity_consumption_to_which_pv_can_contribute_7', 'applicable_space_heating_electricity_consumption_to_which_pv_can_contribute_8', 'applicable_space_heating_electricity_consumption_to_which_pv_can_contribute_9', 'applicable_space_heating_electricity_consumption_to_which_pv_can_contribute_10', 'applicable_space_heating_electricity_consumption_to_which_pv_can_contribute_11', 'applicable_space_heating_electricity_consumption_to_which_pv_can_contribute_12', 'applicable_water_heating_electricity_consumption_to_which_pv_can_contribute_1', 'applicable_water_heating_electricity_consumption_to_which_pv_can_contribute_2', 'applicable_water_heating_electricity_consumption_to_which_pv_can_contribute_3', 'applicable_water_heating_electricity_consumption_to_which_pv_can_contribute_4', 'applicable_water_heating_electricity_consumption_to_which_pv_can_contribute_5', 'applicable_water_heating_electricity_consumption_to_which_pv_can_contribute_6', 'applicable_water_heating_electricity_consumption_to_which_pv_can_contribute_7', 'applicable_water_heating_electricity_consumption_to_which_pv_can_contribute_8', 'applicable_water_heating_electricity_consumption_to_which_pv_can_contribute_9', 'applicable_water_heating_electricity_consumption_to_which_pv_can_contribute_10', 'applicable_water_heating_electricity_consumption_to_which_pv_can_contribute_11', 'applicable_water_heating_electricity_consumption_to_which_pv_can_contribute_12', 'applicable_electricity_consumption_to_which_pv_can_contribute_1', 'applicable_electricity_consumption_to_which_pv_can_contribute_2', 'applicable_electricity_consumption_to_which_pv_can_contribute_3', 'applicable_electricity_consumption_to_which_pv_can_contribute_4', 'applicable_electricity_consumption_to_which_pv_can_contribute_5', 'applicable_electricity_consumption_to_which_pv_can_contribute_6', 'applicable_electricity_consumption_to_which_pv_can_contribute_7', 'applicable_electricity_consumption_to_which_pv_can_contribute_8', 'applicable_electricity_consumption_to_which_pv_can_contribute_9', 'applicable_electricity_consumption_to_which_pv_can_contribute_10', 'applicable_electricity_consumption_to_which_pv_can_contribute_11', 'applicable_electricity_consumption_to_which_pv_can_contribute_12', 'pv_supply_demand_ratio_1', 'pv_supply_demand_ratio_2', 'pv_supply_demand_ratio_3', 'pv_supply_demand_ratio_4', 'pv_supply_demand_ratio_5', 'pv_supply_demand_ratio_6', 'pv_supply_demand_ratio_7', 'pv_supply_demand_ratio_8', 'pv_supply_demand_ratio_9', 'pv_supply_demand_ratio_10', 'pv_supply_demand_ratio_11', 'pv_supply_demand_ratio_12', 'C_bat', 'beta_factor_coefficient_C_PV1', 'beta_factor_coefficient_C_PV2', 'beta_factor_coefficient_C_PV3', 'beta_factor_1', 'beta_factor_2', 'beta_factor_3', 'beta_factor_4', 'beta_factor_5', 'beta_factor_6', 'beta_factor_7', 'beta_factor_8', 'beta_factor_9', 'beta_factor_10', 'beta_factor_11', 'beta_factor_12', 'pv_generation_used_within_the_dwelling_1', 'pv_generation_used_within_the_dwelling_2', 'pv_generation_used_within_the_dwelling_3', 'pv_generation_used_within_the_dwelling_4', 'pv_generation_used_within_the_dwelling_5', 'pv_generation_used_within_the_dwelling_6', 'pv_generation_used_within_the_dwelling_7', 'pv_generation_used_within_the_dwelling_8', 'pv_generation_used_within_the_dwelling_9', 'pv_generation_used_within_the_dwelling_10', 'pv_generation_used_within_the_dwelling_11', 'pv_generation_used_within_the_dwelling_12', 'pv_generation_exported_1', 'pv_generation_exported_2', 'pv_generation_exported_3', 'pv_generation_exported_4', 'pv_generation_exported_5', 'pv_generation_exported_6', 'pv_generation_exported_7', 'pv_generation_exported_8', 'pv_generation_exported_9', 'pv_generation_exported_10', 'pv_generation_exported_11', 'pv_generation_exported_12', 'value_233a_1', 'value_233a_2', 'value_233a_3', 'value_233a_4', 'value_233a_5', 'value_233a_6', 'value_233a_7', 'value_233a_8', 'value_233a_9', 'value_233a_10', 'value_233a_11', 'value_233a_12', 'value_233a', 'value_234a_1', 'value_234a_2', 'value_234a_3', 'value_234a_4', 'value_234a_5', 'value_234a_6', 'value_234a_7', 'value_234a_8', 'value_234a_9', 'value_234a_10', 'value_234a_11', 'value_234a_12', 'value_234a', 'value_235a_1', 'value_235a_2', 'value_235a_3', 'value_235a_4', 'value_235a_5', 'value_235a_6', 'value_235a_7', 'value_235a_8', 'value_235a_9', 'value_235a_10', 'value_235a_11', 'value_235a_12', 'value_235a', 'value_235c_1', 'value_235c_2', 'value_235c_3', 'value_235c_4', 'value_235c_5', 'value_235c_6', 'value_235c_7', 'value_235c_8', 'value_235c_9', 'value_235c_10', 'value_235c_11', 'value_235c_12', 'value_235c', 'value_233b_1', 'value_233b_2', 'value_233b_3', 'value_233b_4', 'value_233b_5', 'value_233b_6', 'value_233b_7', 'value_233b_8', 'value_233b_9', 'value_233b_10', 'value_233b_11', 'value_233b_12', 'value_233b', 'value_234b_1', 'value_234b_2', 'value_234b_3', 'value_234b_4', 'value_234b_5', 'value_234b_6', 'value_234b_7', 'value_234b_8', 'value_234b_9', 'value_234b_10', 'value_234b_11', 'value_234b_12', 'value_234b', 'value_235b_1', 'value_235b_2', 'value_235b_3', 'value_235b_4', 'value_235b_5', 'value_235b_6', 'value_235b_7', 'value_235b_8', 'value_235b_9', 'value_235b_10', 'value_235b_11', 'value_235b_12', 'value_235b', 'value_235d_1', 'value_235d_2', 'value_235d_3', 'value_235d_4', 'value_235d_5', 'value_235d_6', 'value_235d_7', 'value_235d_8', 'value_235d_9', 'value_235d_10', 'value_235d_11', 'value_235d_12', 'value_235d', 'value_233', 'value_238', 'value_240b', 'space_heating_main_system_1_high_rate_fuel_price', 'value_240c', 'space_heating_main_system_1_low_rate_fuel_price', 'value_240d', 'space_heating_main_system_1_other_fuel_price', 'value_240e', 'value_240', 'value_241b', 'space_heating_main_system_2_high_rate_fuel_price', 'value_241c', 'space_heating_main_system_2_low_rate_fuel_price', 'value_241d', 'space_heating_main_system_2_other_fuel_price', 'value_241e', 'value_241', 'value_242b', 'space_heating_secondary_high_rate_fuel_price', 'value_242c', 'space_heating_secondary_low_rate_fuel_price', 'value_242d', 'space_heating_secondary_other_fuel_price', 'value_242e', 'value_242', 'value_244', 'water_heating_high_rate_fuel_price', 'value_245', 'water_heating_low_rate_fuel_price', 'value_246', 'water_heating_other_fuel_price', 'value_247', 'electricity_fuel_code', 'electricity_unit_price', 'value_247a', 'value_248', 'value_249', 'value_250', 'value_251', 'electricity_sold_to_grid_pv_unit_price', 'electricity_sold_to_grid_other_unit_price', 'value_252', 'value_253', 'value_254', 'value_255', 'value_256', 'value_257', 'sap_value', 'value_258', 'sap_band']\n"
     ]
    }
   ],
   "source": [
    "# view the keys of all items in the output dictionary\n",
    "print(list(output_dict))"
   ]
  },
  {
   "cell_type": "code",
   "execution_count": 16,
   "id": "0d5aecf3",
   "metadata": {},
   "outputs": [
    {
     "data": {
      "text/plain": [
       "'C'"
      ]
     },
     "execution_count": 16,
     "metadata": {},
     "output_type": "execute_result"
    }
   ],
   "source": [
    "# sap band\n",
    "output_dict['sap_band']"
   ]
  },
  {
   "cell_type": "code",
   "execution_count": 17,
   "id": "f751fc81",
   "metadata": {},
   "outputs": [
    {
     "data": {
      "text/plain": [
       "75"
      ]
     },
     "execution_count": 17,
     "metadata": {},
     "output_type": "execute_result"
    }
   ],
   "source": [
    "# sap rating\n",
    "output_dict['value_258']"
   ]
  },
  {
   "cell_type": "code",
   "execution_count": 18,
   "id": "509ccce0",
   "metadata": {},
   "outputs": [
    {
     "data": {
      "text/plain": [
       "9829.929547441368"
      ]
     },
     "execution_count": 18,
     "metadata": {},
     "output_type": "execute_result"
    }
   ],
   "source": [
    "# annual space heating gas use (kWh)\n",
    "output_dict['value_211']"
   ]
  },
  {
   "cell_type": "code",
   "execution_count": 19,
   "id": "74310b99",
   "metadata": {},
   "outputs": [
    {
     "data": {
      "text/plain": [
       "{1: 1608.5894270196795,\n",
       " 2: 1374.3312332739745,\n",
       " 3: 1329.692112609153,\n",
       " 4: 1021.1051230596786,\n",
       " 5: 744.6948824630354,\n",
       " 10: 879.5850157988972,\n",
       " 11: 1245.4406811647143,\n",
       " 12: 1626.4910720522362}"
      ]
     },
     "execution_count": 19,
     "metadata": {},
     "output_type": "execute_result"
    }
   ],
   "source": [
    "# monthly space heating gas use\n",
    "{int(k.split('_')[-1]):v for k,v in output_dict.items() if k.startswith('value_211_')}"
   ]
  },
  {
   "cell_type": "code",
   "execution_count": null,
   "id": "742bfaf1",
   "metadata": {},
   "outputs": [],
   "source": []
  }
 ],
 "metadata": {
  "kernelspec": {
   "display_name": "Python 3 (ipykernel)",
   "language": "python",
   "name": "python3"
  },
  "language_info": {
   "codemirror_mode": {
    "name": "ipython",
    "version": 3
   },
   "file_extension": ".py",
   "mimetype": "text/x-python",
   "name": "python",
   "nbconvert_exporter": "python",
   "pygments_lexer": "ipython3",
   "version": "3.9.18"
  }
 },
 "nbformat": 4,
 "nbformat_minor": 5
}
